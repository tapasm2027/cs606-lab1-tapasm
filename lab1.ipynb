{
 "cells": [
  {
   "cell_type": "markdown",
   "metadata": {},
   "source": [
    "# Python Programming basics"
   ]
  },
  {
   "cell_type": "markdown",
   "metadata": {},
   "source": [
    "## Types and Functions"
   ]
  },
  {
   "cell_type": "code",
   "execution_count": null,
   "metadata": {},
   "outputs": [],
   "source": [
    "x = 1\n",
    "y = 2\n",
    "z = 3\n",
    "x + y + z"
   ]
  },
  {
   "cell_type": "markdown",
   "metadata": {},
   "source": [
    "Write a function that takes two numbers and adds them:"
   ]
  },
  {
   "cell_type": "code",
   "execution_count": null,
   "metadata": {},
   "outputs": [],
   "source": [
    "def add(x, y):\n",
    "    return x + y\n",
    "\n",
    "add(4, 6)"
   ]
  },
  {
   "cell_type": "markdown",
   "metadata": {},
   "source": [
    "Extend the function to take an optional 3rd argument"
   ]
  },
  {
   "cell_type": "code",
   "execution_count": null,
   "metadata": {},
   "outputs": [],
   "source": [
    "def add(x, y, flag=None):\n",
    "    #ADD YOUR CODE HERE\n",
    "    if flag==None:\n",
    "        return x+y\n",
    "    elif flag is not None:\n",
    "        return x+y+flag\n",
    "print(add(1, 2))\n",
    "print(add(1, 2, 3))"
   ]
  },
  {
   "cell_type": "markdown",
   "metadata": {},
   "source": [
    "Extend the function to take another optional flag parameter and add only if it is true"
   ]
  },
  {
   "cell_type": "code",
   "execution_count": null,
   "metadata": {},
   "outputs": [],
   "source": [
    "def add(x, y, flag=None):\n",
    "    if flag is None:\n",
    "        return x+y\n",
    "    elif flag is not None: \n",
    "        return x+y+flag\n",
    "print(add(1, 2))\n",
    "print(add(1, 2, 3))"
   ]
  },
  {
   "cell_type": "markdown",
   "metadata": {},
   "source": [
    "Assign a function to a variable a"
   ]
  },
  {
   "cell_type": "code",
   "execution_count": null,
   "metadata": {},
   "outputs": [],
   "source": [
    "def add(x, y):\n",
    "    return x+y;\n",
    "\n",
    "a = add\n",
    "\n",
    "a(1,2)"
   ]
  },
  {
   "cell_type": "markdown",
   "metadata": {},
   "source": [
    "## Iterations in python"
   ]
  },
  {
   "cell_type": "markdown",
   "metadata": {},
   "source": [
    "Create a list of 5 elements"
   ]
  },
  {
   "cell_type": "code",
   "execution_count": null,
   "metadata": {},
   "outputs": [],
   "source": [
    "m=['tapas','class','cse','day3','laptop']\n",
    "print (m)"
   ]
  },
  {
   "cell_type": "markdown",
   "metadata": {},
   "source": [
    "Square every item in the list using a loop inside the array index"
   ]
  },
  {
   "cell_type": "code",
   "execution_count": 3,
   "metadata": {
    "scrolled": true
   },
   "outputs": [
    {
     "name": "stdout",
     "output_type": "stream",
     "text": [
      "[1, 4, 9, 16, 25]\n"
     ]
    }
   ],
   "source": [
    "m=['1','2','3','4','5']\n",
    "n=[int(i)**2 for i in m]\n",
    "print (n)\n"
   ]
  },
  {
   "cell_type": "markdown",
   "metadata": {},
   "source": [
    "Show how to use a iterator. First, use enumerate to create a new tuple from above list"
   ]
  },
  {
   "cell_type": "code",
   "execution_count": 4,
   "metadata": {
    "scrolled": true
   },
   "outputs": [
    {
     "name": "stdout",
     "output_type": "stream",
     "text": [
      "index is 0 and value is apples\n",
      "index is 1 and value is bananas\n",
      "index is 2 and value is oranges\n",
      "now creating a tuple from list\n",
      "('apples', 'bananas', 'oranges')\n"
     ]
    }
   ],
   "source": [
    "L = ['apples', 'bananas', 'oranges']\n",
    "for idx, val in enumerate(L):\n",
    "    print(\"index is %d and value is %s\" % (idx, val))\n",
    "tup=tuple(L)\n",
    "print (\"now creating a tuple from list\")\n",
    "print (tup)"
   ]
  },
  {
   "cell_type": "markdown",
   "metadata": {},
   "source": [
    "Now use a zip iterator to do the same."
   ]
  },
  {
   "cell_type": "code",
   "execution_count": 7,
   "metadata": {},
   "outputs": [
    {
     "name": "stdout",
     "output_type": "stream",
     "text": [
      "[('apples', 'apples'), ('bananas', 'bananas'), ('oranges', 'oranges')]\n"
     ]
    }
   ],
   "source": [
    "n1=zip(L,tup)\n",
    "print(list(n1))"
   ]
  },
  {
   "cell_type": "markdown",
   "metadata": {},
   "source": [
    "Now state the differences between a zip and enumerate iterator."
   ]
  },
  {
   "cell_type": "code",
   "execution_count": 9,
   "metadata": {},
   "outputs": [],
   "source": [
    "#The purpose of zip() is to map the similar index of multiple containers so that they can be used just using as single entity.\n",
    "# While in enumerate iterator elements of same entity are itereated and movement happens only on same type of structure"
   ]
  },
  {
   "cell_type": "markdown",
   "metadata": {},
   "source": [
    "## Strings in Python"
   ]
  },
  {
   "cell_type": "markdown",
   "metadata": {},
   "source": [
    "Open the file poem.txt and print lenght of each line."
   ]
  },
  {
   "cell_type": "code",
   "execution_count": null,
   "metadata": {},
   "outputs": [],
   "source": [
    "with open('poem.txt','r',) as f:\n",
    "    for line in f.readlines():\n",
    "        words = len(line.split( ))\n",
    "        print (words)"
   ]
  },
  {
   "cell_type": "markdown",
   "metadata": {},
   "source": [
    "Find sum of each line, mean, median and standard deviation of all lines in the file."
   ]
  },
  {
   "cell_type": "code",
   "execution_count": null,
   "metadata": {},
   "outputs": [],
   "source": [
    "with open('poem.txt','r',) as f:\n",
    "    counter=0\n",
    "    nline=0\n",
    "    for line in f.readlines():\n",
    "        words_in_line = len(line.split( ))\n",
    "        counter =counter+words_in_line\n",
    "        nline=nline+1\n",
    "    mean_line =counter/nline       \n",
    "    print (mean_line)"
   ]
  },
  {
   "cell_type": "markdown",
   "metadata": {},
   "source": [
    "Count the number of words in the file"
   ]
  },
  {
   "cell_type": "code",
   "execution_count": null,
   "metadata": {},
   "outputs": [],
   "source": [
    "print (counter)\n",
    "#counter has been used in program just above it has already \n",
    "#calculated words in each line so at the end of for loop only total is remaining to be printed"
   ]
  },
  {
   "cell_type": "markdown",
   "metadata": {},
   "source": [
    "Print the first 1000 characters from poem.txt."
   ]
  },
  {
   "cell_type": "code",
   "execution_count": null,
   "metadata": {},
   "outputs": [],
   "source": [
    "f=open('poem.txt')\n",
    "counter=0\n",
    "for i in list(f.read()):\n",
    "    if counter < 1000:\n",
    "        print(i)\n",
    "        counter=counter+1"
   ]
  },
  {
   "cell_type": "code",
   "execution_count": null,
   "metadata": {},
   "outputs": [],
   "source": [
    "Print the 3rd to 5th words from the file."
   ]
  },
  {
   "cell_type": "code",
   "execution_count": null,
   "metadata": {},
   "outputs": [],
   "source": [
    "#open the file in readonly mode\n",
    "f=open('poem.txt','r') \n",
    "lines=[] #create an empty list\n",
    "for line in f.readlines():\n",
    "    lines.append(line.split())# loop over the lines in the file and store them in the lines list\n",
    "print(lines[1][1],lines[1][3])\n",
    "# the question is saying only third and fifth word not from each line\n",
    "#    print (line) #printing third and fifth word of file "
   ]
  },
  {
   "cell_type": "code",
   "execution_count": null,
   "metadata": {},
   "outputs": [],
   "source": [
    "Get every third word between the second and the 15th words."
   ]
  },
  {
   "cell_type": "code",
   "execution_count": null,
   "metadata": {},
   "outputs": [],
   "source": [
    "Print the last word from the file and change the second last characted in the string to 'g'. "
   ]
  },
  {
   "cell_type": "code",
   "execution_count": null,
   "metadata": {
    "scrolled": false
   },
   "outputs": [],
   "source": [
    "#open the file in readonly mode\n",
    "f=open('poem.txt','r') \n",
    "lines=[] #create an empty list\n",
    "for line in f.readlines():\n",
    "    lines.append(line.split())# loop over the lines in the file and store them in the lines list\n",
    "#second last charachter in file is\n",
    "print(lines[-1][-1])\n",
    "#changing second last charachter to g\n",
    "#lines[-1][-2]\n",
    "lines[-1][-1]='offg]'\n",
    "print(lines[-1][-1])"
   ]
  },
  {
   "cell_type": "markdown",
   "metadata": {},
   "source": [
    "State if the above operation completed successfully. State reasons"
   ]
  },
  {
   "cell_type": "code",
   "execution_count": null,
   "metadata": {},
   "outputs": [],
   "source": [
    "#yes the above operation completed successfully as all lines were taken in a list and I replaced 2nd last charachter by g so \n",
    "#word originally was .] it changed to g]"
   ]
  },
  {
   "cell_type": "markdown",
   "metadata": {},
   "source": [
    "# Find types of Python variables and functions"
   ]
  },
  {
   "cell_type": "code",
   "execution_count": null,
   "metadata": {},
   "outputs": [],
   "source": [
    "type(\"This is a string\")"
   ]
  },
  {
   "cell_type": "markdown",
   "metadata": {},
   "source": [
    "Find what are the types of the following and state if they are mutable of immutable"
   ]
  },
  {
   "cell_type": "code",
   "execution_count": null,
   "metadata": {},
   "outputs": [],
   "source": [
    "print (type(None))\n",
    "print (type(1))\n",
    "print (type(1.0))\n",
    "#print (type(add))\n",
    "print (type((1, 'a', 3, 'b')))\n",
    "print (type([1, 'a', 3, 'b']))"
   ]
  },
  {
   "cell_type": "markdown",
   "metadata": {},
   "source": [
    "Append new elements at the end of a list"
   ]
  },
  {
   "cell_type": "code",
   "execution_count": null,
   "metadata": {},
   "outputs": [],
   "source": [
    "list=[1,2,3,4,5]\n",
    "list.append(6)\n",
    "print(list)"
   ]
  },
  {
   "cell_type": "markdown",
   "metadata": {},
   "source": [
    "Loop through each element of the list"
   ]
  },
  {
   "cell_type": "code",
   "execution_count": null,
   "metadata": {},
   "outputs": [],
   "source": [
    "list=[1,2,3,4,5]\n",
    "for m in list:\n",
    "    print (m)"
   ]
  },
  {
   "cell_type": "markdown",
   "metadata": {},
   "source": [
    "Use a indexing operator"
   ]
  },
  {
   "cell_type": "code",
   "execution_count": null,
   "metadata": {},
   "outputs": [],
   "source": [
    "list=[1,2,3,4,5]\n",
    "list.index(3)"
   ]
  },
  {
   "cell_type": "markdown",
   "metadata": {},
   "source": [
    "Concatenate two lists"
   ]
  },
  {
   "cell_type": "code",
   "execution_count": null,
   "metadata": {},
   "outputs": [],
   "source": [
    "m1=['tapas','data','self','nothing','what']\n",
    "m2=['parrot','cow','buffalo','horse']\n",
    "m=m1+m2\n",
    "print(m)"
   ]
  },
  {
   "cell_type": "markdown",
   "metadata": {},
   "source": [
    "Use the in operator to check if something is in a list"
   ]
  },
  {
   "cell_type": "code",
   "execution_count": null,
   "metadata": {},
   "outputs": [],
   "source": [
    "m=['tapas', 'data', 'self', 'nothing', 'what', 'parrot', 'cow', 'buffalo', 'horse']\n",
    "if 'tapas' in m:\n",
    "    print ('yes')"
   ]
  },
  {
   "cell_type": "markdown",
   "metadata": {},
   "source": [
    "Initialize a string and slice the first 1, 2 and 3 characters. Then from 3rd to end."
   ]
  },
  {
   "cell_type": "code",
   "execution_count": null,
   "metadata": {},
   "outputs": [],
   "source": [
    "str=\"hello how are you\"\n",
    "str.strip()\n",
    "print (str[:3])\n",
    "print (str[3:])"
   ]
  },
  {
   "cell_type": "markdown",
   "metadata": {},
   "source": [
    "Take a first name and a last name and then concatenate the last name with 3 times the first name and show result."
   ]
  },
  {
   "cell_type": "code",
   "execution_count": null,
   "metadata": {},
   "outputs": [],
   "source": [
    "first='tapas'\n",
    "last='mishra'\n",
    "print(first+first+first+last)"
   ]
  },
  {
   "cell_type": "markdown",
   "metadata": {},
   "source": [
    "Take a string with four words. Use the split function to display the second and the last words"
   ]
  },
  {
   "cell_type": "code",
   "execution_count": null,
   "metadata": {},
   "outputs": [],
   "source": [
    "str=\"hello how are you?\"\n",
    "m=str.split()\n",
    "print (m[1],m[-1]) #displaying first and last words"
   ]
  },
  {
   "cell_type": "markdown",
   "metadata": {},
   "source": [
    "Concatenate a number with a string. Update following:"
   ]
  },
  {
   "cell_type": "code",
   "execution_count": null,
   "metadata": {
    "scrolled": true
   },
   "outputs": [],
   "source": [
    "'Data' + str(2)\n",
    "\n",
    "#if you get an error while running this just restart kernel and clear the output"
   ]
  },
  {
   "cell_type": "markdown",
   "metadata": {},
   "source": [
    "## Dictionaries associated with lists"
   ]
  },
  {
   "cell_type": "markdown",
   "metadata": {},
   "source": [
    "Create a list of keys and values"
   ]
  },
  {
   "cell_type": "code",
   "execution_count": null,
   "metadata": {},
   "outputs": [],
   "source": [
    "x = {'DSB': 'dsb@iiitg', 'Rakesh': 'rakesh@iiitg'}\n",
    "x['DSB']"
   ]
  },
  {
   "cell_type": "code",
   "execution_count": null,
   "metadata": {},
   "outputs": [],
   "source": [
    "x['GB'] = None"
   ]
  },
  {
   "cell_type": "markdown",
   "metadata": {},
   "source": [
    "Iterate over all the keys"
   ]
  },
  {
   "cell_type": "code",
   "execution_count": null,
   "metadata": {},
   "outputs": [],
   "source": [
    "x = {'DSB': 'dsb@iiitg', 'Rakesh': 'rakesh@iiitg'}\n",
    "for key in x.keys():\n",
    "    print (key)"
   ]
  },
  {
   "cell_type": "markdown",
   "metadata": {},
   "source": [
    "Iterate over all the values"
   ]
  },
  {
   "cell_type": "code",
   "execution_count": null,
   "metadata": {},
   "outputs": [],
   "source": [
    "x = {'DSB': 'dsb@iiitg', 'Rakesh': 'rakesh@iiitg'}\n",
    "for value in x.values():\n",
    "    print (value)\n",
    "    "
   ]
  },
  {
   "cell_type": "markdown",
   "metadata": {},
   "source": [
    "Iterate over all the key-vlaue pairs in the list"
   ]
  },
  {
   "cell_type": "code",
   "execution_count": null,
   "metadata": {},
   "outputs": [],
   "source": [
    "\n",
    "x = {'name':'someone','roll_no':'1802','room':'70','branch':'cse'}\n",
    "for k,v in x.items():\n",
    "    print (k,v)\n",
    "    "
   ]
  },
  {
   "cell_type": "markdown",
   "metadata": {},
   "source": [
    "Unpack the following sequence into different variables"
   ]
  },
  {
   "cell_type": "code",
   "execution_count": null,
   "metadata": {},
   "outputs": [],
   "source": [
    "x=('DSB','IIITG','dsb@iiitg','CSE')\n",
    "for i in x:\n",
    "    print (i)"
   ]
  },
  {
   "cell_type": "markdown",
   "metadata": {},
   "source": [
    "Use Python's in-built methods for string formatting"
   ]
  },
  {
   "cell_type": "code",
   "execution_count": null,
   "metadata": {},
   "outputs": [],
   "source": [
    "sales_record = {\n",
    "'price': 3.24,\n",
    "'num_items': 4,\n",
    "'person': 'DSB'}\n",
    "\n",
    "sales_statement = f\"{sales_record['person']} got {sales_record['num_items']} item(s) at a cost of {sales_record['price']}each for a total of {sales_record['price']*sales_record['num_items']}\"\n",
    "print(sales_statement)"
   ]
  },
  {
   "cell_type": "markdown",
   "metadata": {},
   "source": [
    "Take a list of 10 elements and convert into json using  json library. Demonstrate use of loads and dumps"
   ]
  },
  {
   "cell_type": "code",
   "execution_count": null,
   "metadata": {},
   "outputs": [],
   "source": [
    "import json\n",
    "l1=[1,2,[3,4],5,6,(7,8),(9,10)]\n",
    "my_string=json.dumps(l1)\n",
    "print(json.dumps(l1))"
   ]
  },
  {
   "cell_type": "markdown",
   "metadata": {},
   "source": [
    "# Python objects and functions"
   ]
  },
  {
   "cell_type": "markdown",
   "metadata": {},
   "source": [
    "Take the following code:"
   ]
  },
  {
   "cell_type": "code",
   "execution_count": null,
   "metadata": {},
   "outputs": [],
   "source": [
    "class students:\n",
    "    dept = \"Department of CSE\"\n",
    "    def assign_name(self, n):\n",
    "        self.name = n\n",
    "    def assign_location(self, l):\n",
    "        self.location = l"
   ]
  },
  {
   "cell_type": "markdown",
   "metadata": {},
   "source": [
    "Create a object of the class above. Set name and location of your choice."
   ]
  },
  {
   "cell_type": "code",
   "execution_count": null,
   "metadata": {},
   "outputs": [],
   "source": [
    "s1=students()\n",
    "s1.assign_name('tapas')\n",
    "s1.assign_location('guwahati')\n",
    "print(s1.name)\n",
    "print(s1.location)"
   ]
  },
  {
   "cell_type": "markdown",
   "metadata": {},
   "source": [
    "Format accordingly and print in a manner so we see something like : \"Dip Sankar lives in Guwahati, Assam, India and works in the Department of CSE\". The name and location should be of your choice. Use 1 print only"
   ]
  },
  {
   "cell_type": "code",
   "execution_count": null,
   "metadata": {},
   "outputs": [],
   "source": [
    "string=\"{} lives in {} and works in {}\".format(s1.name,s1.location,s1.dept)\n",
    "print (string)"
   ]
  },
  {
   "cell_type": "markdown",
   "metadata": {},
   "source": [
    "Create two lists of 5 elements each. Map the min function to the lists using map(). Print the minimum object."
   ]
  },
  {
   "cell_type": "code",
   "execution_count": 1,
   "metadata": {},
   "outputs": [
    {
     "name": "stdout",
     "output_type": "stream",
     "text": [
      "[10, 11, 7, 8, 9]\n"
     ]
    }
   ],
   "source": [
    "l1=[10,11,12,13,14]\n",
    "l2=[21,22,7,8,9]\n",
    "result=list(map(min,l1,l2))\n",
    "print(result)\n",
    "#in case you get any error just clear cache or previously stored output"
   ]
  },
  {
   "cell_type": "markdown",
   "metadata": {},
   "source": [
    "Iterate through that object and print the elements."
   ]
  },
  {
   "cell_type": "code",
   "execution_count": 2,
   "metadata": {},
   "outputs": [
    {
     "name": "stdout",
     "output_type": "stream",
     "text": [
      "10\n",
      "11\n",
      "7\n",
      "8\n",
      "9\n"
     ]
    }
   ],
   "source": [
    "for r in result:\n",
    "    print (r)"
   ]
  },
  {
   "cell_type": "markdown",
   "metadata": {},
   "source": [
    "# Working with CSV"
   ]
  },
  {
   "cell_type": "markdown",
   "metadata": {},
   "source": [
    "Let's import a file with fuel economy data"
   ]
  },
  {
   "cell_type": "code",
   "execution_count": null,
   "metadata": {},
   "outputs": [],
   "source": [
    "import csv\n",
    "with open('mpg.csv') as csvfile:\n",
    "    mpg = list(csv.DictReader(csvfile))\n",
    "    \n",
    "mpg[:3] "
   ]
  },
  {
   "cell_type": "markdown",
   "metadata": {},
   "source": [
    "Find out how many items are there in the dictionary"
   ]
  },
  {
   "cell_type": "code",
   "execution_count": null,
   "metadata": {},
   "outputs": [],
   "source": [
    "len(mpg)"
   ]
  },
  {
   "cell_type": "markdown",
   "metadata": {},
   "source": [
    "Find the column names with keys"
   ]
  },
  {
   "cell_type": "code",
   "execution_count": 10,
   "metadata": {},
   "outputs": [
    {
     "name": "stdout",
     "output_type": "stream",
     "text": [
      "OrderedDict([('', '1'), ('manufacturer', 'audi'), ('model', 'a4'), ('displ', '1.8'), ('year', '1999'), ('cyl', '4'), ('trans', 'auto(l5)'), ('drv', 'f'), ('cty', '18'), ('hwy', '29'), ('fl', 'p'), ('class', 'compact')])\n",
      "OrderedDict([('', '2'), ('manufacturer', 'audi'), ('model', 'a4'), ('displ', '1.8'), ('year', '1999'), ('cyl', '4'), ('trans', 'manual(m5)'), ('drv', 'f'), ('cty', '21'), ('hwy', '29'), ('fl', 'p'), ('class', 'compact')])\n",
      "OrderedDict([('', '3'), ('manufacturer', 'audi'), ('model', 'a4'), ('displ', '2'), ('year', '2008'), ('cyl', '4'), ('trans', 'manual(m6)'), ('drv', 'f'), ('cty', '20'), ('hwy', '31'), ('fl', 'p'), ('class', 'compact')])\n",
      "OrderedDict([('', '4'), ('manufacturer', 'audi'), ('model', 'a4'), ('displ', '2'), ('year', '2008'), ('cyl', '4'), ('trans', 'auto(av)'), ('drv', 'f'), ('cty', '21'), ('hwy', '30'), ('fl', 'p'), ('class', 'compact')])\n",
      "OrderedDict([('', '5'), ('manufacturer', 'audi'), ('model', 'a4'), ('displ', '2.8'), ('year', '1999'), ('cyl', '6'), ('trans', 'auto(l5)'), ('drv', 'f'), ('cty', '16'), ('hwy', '26'), ('fl', 'p'), ('class', 'compact')])\n",
      "OrderedDict([('', '6'), ('manufacturer', 'audi'), ('model', 'a4'), ('displ', '2.8'), ('year', '1999'), ('cyl', '6'), ('trans', 'manual(m5)'), ('drv', 'f'), ('cty', '18'), ('hwy', '26'), ('fl', 'p'), ('class', 'compact')])\n",
      "OrderedDict([('', '7'), ('manufacturer', 'audi'), ('model', 'a4'), ('displ', '3.1'), ('year', '2008'), ('cyl', '6'), ('trans', 'auto(av)'), ('drv', 'f'), ('cty', '18'), ('hwy', '27'), ('fl', 'p'), ('class', 'compact')])\n",
      "OrderedDict([('', '8'), ('manufacturer', 'audi'), ('model', 'a4 quattro'), ('displ', '1.8'), ('year', '1999'), ('cyl', '4'), ('trans', 'manual(m5)'), ('drv', '4'), ('cty', '18'), ('hwy', '26'), ('fl', 'p'), ('class', 'compact')])\n",
      "OrderedDict([('', '9'), ('manufacturer', 'audi'), ('model', 'a4 quattro'), ('displ', '1.8'), ('year', '1999'), ('cyl', '4'), ('trans', 'auto(l5)'), ('drv', '4'), ('cty', '16'), ('hwy', '25'), ('fl', 'p'), ('class', 'compact')])\n",
      "OrderedDict([('', '10'), ('manufacturer', 'audi'), ('model', 'a4 quattro'), ('displ', '2'), ('year', '2008'), ('cyl', '4'), ('trans', 'manual(m6)'), ('drv', '4'), ('cty', '20'), ('hwy', '28'), ('fl', 'p'), ('class', 'compact')])\n",
      "OrderedDict([('', '11'), ('manufacturer', 'audi'), ('model', 'a4 quattro'), ('displ', '2'), ('year', '2008'), ('cyl', '4'), ('trans', 'auto(s6)'), ('drv', '4'), ('cty', '19'), ('hwy', '27'), ('fl', 'p'), ('class', 'compact')])\n",
      "OrderedDict([('', '12'), ('manufacturer', 'audi'), ('model', 'a4 quattro'), ('displ', '2.8'), ('year', '1999'), ('cyl', '6'), ('trans', 'auto(l5)'), ('drv', '4'), ('cty', '15'), ('hwy', '25'), ('fl', 'p'), ('class', 'compact')])\n",
      "OrderedDict([('', '13'), ('manufacturer', 'audi'), ('model', 'a4 quattro'), ('displ', '2.8'), ('year', '1999'), ('cyl', '6'), ('trans', 'manual(m5)'), ('drv', '4'), ('cty', '17'), ('hwy', '25'), ('fl', 'p'), ('class', 'compact')])\n",
      "OrderedDict([('', '14'), ('manufacturer', 'audi'), ('model', 'a4 quattro'), ('displ', '3.1'), ('year', '2008'), ('cyl', '6'), ('trans', 'auto(s6)'), ('drv', '4'), ('cty', '17'), ('hwy', '25'), ('fl', 'p'), ('class', 'compact')])\n",
      "OrderedDict([('', '15'), ('manufacturer', 'audi'), ('model', 'a4 quattro'), ('displ', '3.1'), ('year', '2008'), ('cyl', '6'), ('trans', 'manual(m6)'), ('drv', '4'), ('cty', '15'), ('hwy', '25'), ('fl', 'p'), ('class', 'compact')])\n",
      "OrderedDict([('', '16'), ('manufacturer', 'audi'), ('model', 'a6 quattro'), ('displ', '2.8'), ('year', '1999'), ('cyl', '6'), ('trans', 'auto(l5)'), ('drv', '4'), ('cty', '15'), ('hwy', '24'), ('fl', 'p'), ('class', 'midsize')])\n",
      "OrderedDict([('', '17'), ('manufacturer', 'audi'), ('model', 'a6 quattro'), ('displ', '3.1'), ('year', '2008'), ('cyl', '6'), ('trans', 'auto(s6)'), ('drv', '4'), ('cty', '17'), ('hwy', '25'), ('fl', 'p'), ('class', 'midsize')])\n",
      "OrderedDict([('', '18'), ('manufacturer', 'audi'), ('model', 'a6 quattro'), ('displ', '4.2'), ('year', '2008'), ('cyl', '8'), ('trans', 'auto(s6)'), ('drv', '4'), ('cty', '16'), ('hwy', '23'), ('fl', 'p'), ('class', 'midsize')])\n",
      "OrderedDict([('', '19'), ('manufacturer', 'chevrolet'), ('model', 'c1500 suburban 2wd'), ('displ', '5.3'), ('year', '2008'), ('cyl', '8'), ('trans', 'auto(l4)'), ('drv', 'r'), ('cty', '14'), ('hwy', '20'), ('fl', 'r'), ('class', 'suv')])\n",
      "OrderedDict([('', '20'), ('manufacturer', 'chevrolet'), ('model', 'c1500 suburban 2wd'), ('displ', '5.3'), ('year', '2008'), ('cyl', '8'), ('trans', 'auto(l4)'), ('drv', 'r'), ('cty', '11'), ('hwy', '15'), ('fl', 'e'), ('class', 'suv')])\n",
      "OrderedDict([('', '21'), ('manufacturer', 'chevrolet'), ('model', 'c1500 suburban 2wd'), ('displ', '5.3'), ('year', '2008'), ('cyl', '8'), ('trans', 'auto(l4)'), ('drv', 'r'), ('cty', '14'), ('hwy', '20'), ('fl', 'r'), ('class', 'suv')])\n",
      "OrderedDict([('', '22'), ('manufacturer', 'chevrolet'), ('model', 'c1500 suburban 2wd'), ('displ', '5.7'), ('year', '1999'), ('cyl', '8'), ('trans', 'auto(l4)'), ('drv', 'r'), ('cty', '13'), ('hwy', '17'), ('fl', 'r'), ('class', 'suv')])\n",
      "OrderedDict([('', '23'), ('manufacturer', 'chevrolet'), ('model', 'c1500 suburban 2wd'), ('displ', '6'), ('year', '2008'), ('cyl', '8'), ('trans', 'auto(l4)'), ('drv', 'r'), ('cty', '12'), ('hwy', '17'), ('fl', 'r'), ('class', 'suv')])\n",
      "OrderedDict([('', '24'), ('manufacturer', 'chevrolet'), ('model', 'corvette'), ('displ', '5.7'), ('year', '1999'), ('cyl', '8'), ('trans', 'manual(m6)'), ('drv', 'r'), ('cty', '16'), ('hwy', '26'), ('fl', 'p'), ('class', '2seater')])\n",
      "OrderedDict([('', '25'), ('manufacturer', 'chevrolet'), ('model', 'corvette'), ('displ', '5.7'), ('year', '1999'), ('cyl', '8'), ('trans', 'auto(l4)'), ('drv', 'r'), ('cty', '15'), ('hwy', '23'), ('fl', 'p'), ('class', '2seater')])\n",
      "OrderedDict([('', '26'), ('manufacturer', 'chevrolet'), ('model', 'corvette'), ('displ', '6.2'), ('year', '2008'), ('cyl', '8'), ('trans', 'manual(m6)'), ('drv', 'r'), ('cty', '16'), ('hwy', '26'), ('fl', 'p'), ('class', '2seater')])\n",
      "OrderedDict([('', '27'), ('manufacturer', 'chevrolet'), ('model', 'corvette'), ('displ', '6.2'), ('year', '2008'), ('cyl', '8'), ('trans', 'auto(s6)'), ('drv', 'r'), ('cty', '15'), ('hwy', '25'), ('fl', 'p'), ('class', '2seater')])\n",
      "OrderedDict([('', '28'), ('manufacturer', 'chevrolet'), ('model', 'corvette'), ('displ', '7'), ('year', '2008'), ('cyl', '8'), ('trans', 'manual(m6)'), ('drv', 'r'), ('cty', '15'), ('hwy', '24'), ('fl', 'p'), ('class', '2seater')])\n",
      "OrderedDict([('', '29'), ('manufacturer', 'chevrolet'), ('model', 'k1500 tahoe 4wd'), ('displ', '5.3'), ('year', '2008'), ('cyl', '8'), ('trans', 'auto(l4)'), ('drv', '4'), ('cty', '14'), ('hwy', '19'), ('fl', 'r'), ('class', 'suv')])\n",
      "OrderedDict([('', '30'), ('manufacturer', 'chevrolet'), ('model', 'k1500 tahoe 4wd'), ('displ', '5.3'), ('year', '2008'), ('cyl', '8'), ('trans', 'auto(l4)'), ('drv', '4'), ('cty', '11'), ('hwy', '14'), ('fl', 'e'), ('class', 'suv')])\n",
      "OrderedDict([('', '31'), ('manufacturer', 'chevrolet'), ('model', 'k1500 tahoe 4wd'), ('displ', '5.7'), ('year', '1999'), ('cyl', '8'), ('trans', 'auto(l4)'), ('drv', '4'), ('cty', '11'), ('hwy', '15'), ('fl', 'r'), ('class', 'suv')])\n",
      "OrderedDict([('', '32'), ('manufacturer', 'chevrolet'), ('model', 'k1500 tahoe 4wd'), ('displ', '6.5'), ('year', '1999'), ('cyl', '8'), ('trans', 'auto(l4)'), ('drv', '4'), ('cty', '14'), ('hwy', '17'), ('fl', 'd'), ('class', 'suv')])\n",
      "OrderedDict([('', '33'), ('manufacturer', 'chevrolet'), ('model', 'malibu'), ('displ', '2.4'), ('year', '1999'), ('cyl', '4'), ('trans', 'auto(l4)'), ('drv', 'f'), ('cty', '19'), ('hwy', '27'), ('fl', 'r'), ('class', 'midsize')])\n",
      "OrderedDict([('', '34'), ('manufacturer', 'chevrolet'), ('model', 'malibu'), ('displ', '2.4'), ('year', '2008'), ('cyl', '4'), ('trans', 'auto(l4)'), ('drv', 'f'), ('cty', '22'), ('hwy', '30'), ('fl', 'r'), ('class', 'midsize')])\n",
      "OrderedDict([('', '35'), ('manufacturer', 'chevrolet'), ('model', 'malibu'), ('displ', '3.1'), ('year', '1999'), ('cyl', '6'), ('trans', 'auto(l4)'), ('drv', 'f'), ('cty', '18'), ('hwy', '26'), ('fl', 'r'), ('class', 'midsize')])\n",
      "OrderedDict([('', '36'), ('manufacturer', 'chevrolet'), ('model', 'malibu'), ('displ', '3.5'), ('year', '2008'), ('cyl', '6'), ('trans', 'auto(l4)'), ('drv', 'f'), ('cty', '18'), ('hwy', '29'), ('fl', 'r'), ('class', 'midsize')])\n",
      "OrderedDict([('', '37'), ('manufacturer', 'chevrolet'), ('model', 'malibu'), ('displ', '3.6'), ('year', '2008'), ('cyl', '6'), ('trans', 'auto(s6)'), ('drv', 'f'), ('cty', '17'), ('hwy', '26'), ('fl', 'r'), ('class', 'midsize')])\n",
      "OrderedDict([('', '38'), ('manufacturer', 'dodge'), ('model', 'caravan 2wd'), ('displ', '2.4'), ('year', '1999'), ('cyl', '4'), ('trans', 'auto(l3)'), ('drv', 'f'), ('cty', '18'), ('hwy', '24'), ('fl', 'r'), ('class', 'minivan')])\n",
      "OrderedDict([('', '39'), ('manufacturer', 'dodge'), ('model', 'caravan 2wd'), ('displ', '3'), ('year', '1999'), ('cyl', '6'), ('trans', 'auto(l4)'), ('drv', 'f'), ('cty', '17'), ('hwy', '24'), ('fl', 'r'), ('class', 'minivan')])\n",
      "OrderedDict([('', '40'), ('manufacturer', 'dodge'), ('model', 'caravan 2wd'), ('displ', '3.3'), ('year', '1999'), ('cyl', '6'), ('trans', 'auto(l4)'), ('drv', 'f'), ('cty', '16'), ('hwy', '22'), ('fl', 'r'), ('class', 'minivan')])\n",
      "OrderedDict([('', '41'), ('manufacturer', 'dodge'), ('model', 'caravan 2wd'), ('displ', '3.3'), ('year', '1999'), ('cyl', '6'), ('trans', 'auto(l4)'), ('drv', 'f'), ('cty', '16'), ('hwy', '22'), ('fl', 'r'), ('class', 'minivan')])\n",
      "OrderedDict([('', '42'), ('manufacturer', 'dodge'), ('model', 'caravan 2wd'), ('displ', '3.3'), ('year', '2008'), ('cyl', '6'), ('trans', 'auto(l4)'), ('drv', 'f'), ('cty', '17'), ('hwy', '24'), ('fl', 'r'), ('class', 'minivan')])\n",
      "OrderedDict([('', '43'), ('manufacturer', 'dodge'), ('model', 'caravan 2wd'), ('displ', '3.3'), ('year', '2008'), ('cyl', '6'), ('trans', 'auto(l4)'), ('drv', 'f'), ('cty', '17'), ('hwy', '24'), ('fl', 'r'), ('class', 'minivan')])\n",
      "OrderedDict([('', '44'), ('manufacturer', 'dodge'), ('model', 'caravan 2wd'), ('displ', '3.3'), ('year', '2008'), ('cyl', '6'), ('trans', 'auto(l4)'), ('drv', 'f'), ('cty', '11'), ('hwy', '17'), ('fl', 'e'), ('class', 'minivan')])\n",
      "OrderedDict([('', '45'), ('manufacturer', 'dodge'), ('model', 'caravan 2wd'), ('displ', '3.8'), ('year', '1999'), ('cyl', '6'), ('trans', 'auto(l4)'), ('drv', 'f'), ('cty', '15'), ('hwy', '22'), ('fl', 'r'), ('class', 'minivan')])\n",
      "OrderedDict([('', '46'), ('manufacturer', 'dodge'), ('model', 'caravan 2wd'), ('displ', '3.8'), ('year', '1999'), ('cyl', '6'), ('trans', 'auto(l4)'), ('drv', 'f'), ('cty', '15'), ('hwy', '21'), ('fl', 'r'), ('class', 'minivan')])\n",
      "OrderedDict([('', '47'), ('manufacturer', 'dodge'), ('model', 'caravan 2wd'), ('displ', '3.8'), ('year', '2008'), ('cyl', '6'), ('trans', 'auto(l6)'), ('drv', 'f'), ('cty', '16'), ('hwy', '23'), ('fl', 'r'), ('class', 'minivan')])\n",
      "OrderedDict([('', '48'), ('manufacturer', 'dodge'), ('model', 'caravan 2wd'), ('displ', '4'), ('year', '2008'), ('cyl', '6'), ('trans', 'auto(l6)'), ('drv', 'f'), ('cty', '16'), ('hwy', '23'), ('fl', 'r'), ('class', 'minivan')])\n",
      "OrderedDict([('', '49'), ('manufacturer', 'dodge'), ('model', 'dakota pickup 4wd'), ('displ', '3.7'), ('year', '2008'), ('cyl', '6'), ('trans', 'manual(m6)'), ('drv', '4'), ('cty', '15'), ('hwy', '19'), ('fl', 'r'), ('class', 'pickup')])\n",
      "OrderedDict([('', '50'), ('manufacturer', 'dodge'), ('model', 'dakota pickup 4wd'), ('displ', '3.7'), ('year', '2008'), ('cyl', '6'), ('trans', 'auto(l4)'), ('drv', '4'), ('cty', '14'), ('hwy', '18'), ('fl', 'r'), ('class', 'pickup')])\n",
      "OrderedDict([('', '51'), ('manufacturer', 'dodge'), ('model', 'dakota pickup 4wd'), ('displ', '3.9'), ('year', '1999'), ('cyl', '6'), ('trans', 'auto(l4)'), ('drv', '4'), ('cty', '13'), ('hwy', '17'), ('fl', 'r'), ('class', 'pickup')])\n",
      "OrderedDict([('', '52'), ('manufacturer', 'dodge'), ('model', 'dakota pickup 4wd'), ('displ', '3.9'), ('year', '1999'), ('cyl', '6'), ('trans', 'manual(m5)'), ('drv', '4'), ('cty', '14'), ('hwy', '17'), ('fl', 'r'), ('class', 'pickup')])\n",
      "OrderedDict([('', '53'), ('manufacturer', 'dodge'), ('model', 'dakota pickup 4wd'), ('displ', '4.7'), ('year', '2008'), ('cyl', '8'), ('trans', 'auto(l5)'), ('drv', '4'), ('cty', '14'), ('hwy', '19'), ('fl', 'r'), ('class', 'pickup')])\n",
      "OrderedDict([('', '54'), ('manufacturer', 'dodge'), ('model', 'dakota pickup 4wd'), ('displ', '4.7'), ('year', '2008'), ('cyl', '8'), ('trans', 'auto(l5)'), ('drv', '4'), ('cty', '14'), ('hwy', '19'), ('fl', 'r'), ('class', 'pickup')])\n",
      "OrderedDict([('', '55'), ('manufacturer', 'dodge'), ('model', 'dakota pickup 4wd'), ('displ', '4.7'), ('year', '2008'), ('cyl', '8'), ('trans', 'auto(l5)'), ('drv', '4'), ('cty', '9'), ('hwy', '12'), ('fl', 'e'), ('class', 'pickup')])\n",
      "OrderedDict([('', '56'), ('manufacturer', 'dodge'), ('model', 'dakota pickup 4wd'), ('displ', '5.2'), ('year', '1999'), ('cyl', '8'), ('trans', 'manual(m5)'), ('drv', '4'), ('cty', '11'), ('hwy', '17'), ('fl', 'r'), ('class', 'pickup')])\n",
      "OrderedDict([('', '57'), ('manufacturer', 'dodge'), ('model', 'dakota pickup 4wd'), ('displ', '5.2'), ('year', '1999'), ('cyl', '8'), ('trans', 'auto(l4)'), ('drv', '4'), ('cty', '11'), ('hwy', '15'), ('fl', 'r'), ('class', 'pickup')])\n",
      "OrderedDict([('', '58'), ('manufacturer', 'dodge'), ('model', 'durango 4wd'), ('displ', '3.9'), ('year', '1999'), ('cyl', '6'), ('trans', 'auto(l4)'), ('drv', '4'), ('cty', '13'), ('hwy', '17'), ('fl', 'r'), ('class', 'suv')])\n",
      "OrderedDict([('', '59'), ('manufacturer', 'dodge'), ('model', 'durango 4wd'), ('displ', '4.7'), ('year', '2008'), ('cyl', '8'), ('trans', 'auto(l5)'), ('drv', '4'), ('cty', '13'), ('hwy', '17'), ('fl', 'r'), ('class', 'suv')])\n",
      "OrderedDict([('', '60'), ('manufacturer', 'dodge'), ('model', 'durango 4wd'), ('displ', '4.7'), ('year', '2008'), ('cyl', '8'), ('trans', 'auto(l5)'), ('drv', '4'), ('cty', '9'), ('hwy', '12'), ('fl', 'e'), ('class', 'suv')])\n",
      "OrderedDict([('', '61'), ('manufacturer', 'dodge'), ('model', 'durango 4wd'), ('displ', '4.7'), ('year', '2008'), ('cyl', '8'), ('trans', 'auto(l5)'), ('drv', '4'), ('cty', '13'), ('hwy', '17'), ('fl', 'r'), ('class', 'suv')])\n",
      "OrderedDict([('', '62'), ('manufacturer', 'dodge'), ('model', 'durango 4wd'), ('displ', '5.2'), ('year', '1999'), ('cyl', '8'), ('trans', 'auto(l4)'), ('drv', '4'), ('cty', '11'), ('hwy', '16'), ('fl', 'r'), ('class', 'suv')])\n",
      "OrderedDict([('', '63'), ('manufacturer', 'dodge'), ('model', 'durango 4wd'), ('displ', '5.7'), ('year', '2008'), ('cyl', '8'), ('trans', 'auto(l5)'), ('drv', '4'), ('cty', '13'), ('hwy', '18'), ('fl', 'r'), ('class', 'suv')])\n",
      "OrderedDict([('', '64'), ('manufacturer', 'dodge'), ('model', 'durango 4wd'), ('displ', '5.9'), ('year', '1999'), ('cyl', '8'), ('trans', 'auto(l4)'), ('drv', '4'), ('cty', '11'), ('hwy', '15'), ('fl', 'r'), ('class', 'suv')])\n",
      "OrderedDict([('', '65'), ('manufacturer', 'dodge'), ('model', 'ram 1500 pickup 4wd'), ('displ', '4.7'), ('year', '2008'), ('cyl', '8'), ('trans', 'manual(m6)'), ('drv', '4'), ('cty', '12'), ('hwy', '16'), ('fl', 'r'), ('class', 'pickup')])\n",
      "OrderedDict([('', '66'), ('manufacturer', 'dodge'), ('model', 'ram 1500 pickup 4wd'), ('displ', '4.7'), ('year', '2008'), ('cyl', '8'), ('trans', 'auto(l5)'), ('drv', '4'), ('cty', '9'), ('hwy', '12'), ('fl', 'e'), ('class', 'pickup')])\n",
      "OrderedDict([('', '67'), ('manufacturer', 'dodge'), ('model', 'ram 1500 pickup 4wd'), ('displ', '4.7'), ('year', '2008'), ('cyl', '8'), ('trans', 'auto(l5)'), ('drv', '4'), ('cty', '13'), ('hwy', '17'), ('fl', 'r'), ('class', 'pickup')])\n",
      "OrderedDict([('', '68'), ('manufacturer', 'dodge'), ('model', 'ram 1500 pickup 4wd'), ('displ', '4.7'), ('year', '2008'), ('cyl', '8'), ('trans', 'auto(l5)'), ('drv', '4'), ('cty', '13'), ('hwy', '17'), ('fl', 'r'), ('class', 'pickup')])\n",
      "OrderedDict([('', '69'), ('manufacturer', 'dodge'), ('model', 'ram 1500 pickup 4wd'), ('displ', '4.7'), ('year', '2008'), ('cyl', '8'), ('trans', 'manual(m6)'), ('drv', '4'), ('cty', '12'), ('hwy', '16'), ('fl', 'r'), ('class', 'pickup')])\n",
      "OrderedDict([('', '70'), ('manufacturer', 'dodge'), ('model', 'ram 1500 pickup 4wd'), ('displ', '4.7'), ('year', '2008'), ('cyl', '8'), ('trans', 'manual(m6)'), ('drv', '4'), ('cty', '9'), ('hwy', '12'), ('fl', 'e'), ('class', 'pickup')])\n",
      "OrderedDict([('', '71'), ('manufacturer', 'dodge'), ('model', 'ram 1500 pickup 4wd'), ('displ', '5.2'), ('year', '1999'), ('cyl', '8'), ('trans', 'auto(l4)'), ('drv', '4'), ('cty', '11'), ('hwy', '15'), ('fl', 'r'), ('class', 'pickup')])\n",
      "OrderedDict([('', '72'), ('manufacturer', 'dodge'), ('model', 'ram 1500 pickup 4wd'), ('displ', '5.2'), ('year', '1999'), ('cyl', '8'), ('trans', 'manual(m5)'), ('drv', '4'), ('cty', '11'), ('hwy', '16'), ('fl', 'r'), ('class', 'pickup')])\n",
      "OrderedDict([('', '73'), ('manufacturer', 'dodge'), ('model', 'ram 1500 pickup 4wd'), ('displ', '5.7'), ('year', '2008'), ('cyl', '8'), ('trans', 'auto(l5)'), ('drv', '4'), ('cty', '13'), ('hwy', '17'), ('fl', 'r'), ('class', 'pickup')])\n",
      "OrderedDict([('', '74'), ('manufacturer', 'dodge'), ('model', 'ram 1500 pickup 4wd'), ('displ', '5.9'), ('year', '1999'), ('cyl', '8'), ('trans', 'auto(l4)'), ('drv', '4'), ('cty', '11'), ('hwy', '15'), ('fl', 'r'), ('class', 'pickup')])\n",
      "OrderedDict([('', '75'), ('manufacturer', 'ford'), ('model', 'expedition 2wd'), ('displ', '4.6'), ('year', '1999'), ('cyl', '8'), ('trans', 'auto(l4)'), ('drv', 'r'), ('cty', '11'), ('hwy', '17'), ('fl', 'r'), ('class', 'suv')])\n",
      "OrderedDict([('', '76'), ('manufacturer', 'ford'), ('model', 'expedition 2wd'), ('displ', '5.4'), ('year', '1999'), ('cyl', '8'), ('trans', 'auto(l4)'), ('drv', 'r'), ('cty', '11'), ('hwy', '17'), ('fl', 'r'), ('class', 'suv')])\n",
      "OrderedDict([('', '77'), ('manufacturer', 'ford'), ('model', 'expedition 2wd'), ('displ', '5.4'), ('year', '2008'), ('cyl', '8'), ('trans', 'auto(l6)'), ('drv', 'r'), ('cty', '12'), ('hwy', '18'), ('fl', 'r'), ('class', 'suv')])\n",
      "OrderedDict([('', '78'), ('manufacturer', 'ford'), ('model', 'explorer 4wd'), ('displ', '4'), ('year', '1999'), ('cyl', '6'), ('trans', 'auto(l5)'), ('drv', '4'), ('cty', '14'), ('hwy', '17'), ('fl', 'r'), ('class', 'suv')])\n",
      "OrderedDict([('', '79'), ('manufacturer', 'ford'), ('model', 'explorer 4wd'), ('displ', '4'), ('year', '1999'), ('cyl', '6'), ('trans', 'manual(m5)'), ('drv', '4'), ('cty', '15'), ('hwy', '19'), ('fl', 'r'), ('class', 'suv')])\n",
      "OrderedDict([('', '80'), ('manufacturer', 'ford'), ('model', 'explorer 4wd'), ('displ', '4'), ('year', '1999'), ('cyl', '6'), ('trans', 'auto(l5)'), ('drv', '4'), ('cty', '14'), ('hwy', '17'), ('fl', 'r'), ('class', 'suv')])\n",
      "OrderedDict([('', '81'), ('manufacturer', 'ford'), ('model', 'explorer 4wd'), ('displ', '4'), ('year', '2008'), ('cyl', '6'), ('trans', 'auto(l5)'), ('drv', '4'), ('cty', '13'), ('hwy', '19'), ('fl', 'r'), ('class', 'suv')])\n",
      "OrderedDict([('', '82'), ('manufacturer', 'ford'), ('model', 'explorer 4wd'), ('displ', '4.6'), ('year', '2008'), ('cyl', '8'), ('trans', 'auto(l6)'), ('drv', '4'), ('cty', '13'), ('hwy', '19'), ('fl', 'r'), ('class', 'suv')])\n",
      "OrderedDict([('', '83'), ('manufacturer', 'ford'), ('model', 'explorer 4wd'), ('displ', '5'), ('year', '1999'), ('cyl', '8'), ('trans', 'auto(l4)'), ('drv', '4'), ('cty', '13'), ('hwy', '17'), ('fl', 'r'), ('class', 'suv')])\n",
      "OrderedDict([('', '84'), ('manufacturer', 'ford'), ('model', 'f150 pickup 4wd'), ('displ', '4.2'), ('year', '1999'), ('cyl', '6'), ('trans', 'auto(l4)'), ('drv', '4'), ('cty', '14'), ('hwy', '17'), ('fl', 'r'), ('class', 'pickup')])\n",
      "OrderedDict([('', '85'), ('manufacturer', 'ford'), ('model', 'f150 pickup 4wd'), ('displ', '4.2'), ('year', '1999'), ('cyl', '6'), ('trans', 'manual(m5)'), ('drv', '4'), ('cty', '14'), ('hwy', '17'), ('fl', 'r'), ('class', 'pickup')])\n",
      "OrderedDict([('', '86'), ('manufacturer', 'ford'), ('model', 'f150 pickup 4wd'), ('displ', '4.6'), ('year', '1999'), ('cyl', '8'), ('trans', 'manual(m5)'), ('drv', '4'), ('cty', '13'), ('hwy', '16'), ('fl', 'r'), ('class', 'pickup')])\n",
      "OrderedDict([('', '87'), ('manufacturer', 'ford'), ('model', 'f150 pickup 4wd'), ('displ', '4.6'), ('year', '1999'), ('cyl', '8'), ('trans', 'auto(l4)'), ('drv', '4'), ('cty', '13'), ('hwy', '16'), ('fl', 'r'), ('class', 'pickup')])\n",
      "OrderedDict([('', '88'), ('manufacturer', 'ford'), ('model', 'f150 pickup 4wd'), ('displ', '4.6'), ('year', '2008'), ('cyl', '8'), ('trans', 'auto(l4)'), ('drv', '4'), ('cty', '13'), ('hwy', '17'), ('fl', 'r'), ('class', 'pickup')])\n",
      "OrderedDict([('', '89'), ('manufacturer', 'ford'), ('model', 'f150 pickup 4wd'), ('displ', '5.4'), ('year', '1999'), ('cyl', '8'), ('trans', 'auto(l4)'), ('drv', '4'), ('cty', '11'), ('hwy', '15'), ('fl', 'r'), ('class', 'pickup')])\n",
      "OrderedDict([('', '90'), ('manufacturer', 'ford'), ('model', 'f150 pickup 4wd'), ('displ', '5.4'), ('year', '2008'), ('cyl', '8'), ('trans', 'auto(l4)'), ('drv', '4'), ('cty', '13'), ('hwy', '17'), ('fl', 'r'), ('class', 'pickup')])\n",
      "OrderedDict([('', '91'), ('manufacturer', 'ford'), ('model', 'mustang'), ('displ', '3.8'), ('year', '1999'), ('cyl', '6'), ('trans', 'manual(m5)'), ('drv', 'r'), ('cty', '18'), ('hwy', '26'), ('fl', 'r'), ('class', 'subcompact')])\n",
      "OrderedDict([('', '92'), ('manufacturer', 'ford'), ('model', 'mustang'), ('displ', '3.8'), ('year', '1999'), ('cyl', '6'), ('trans', 'auto(l4)'), ('drv', 'r'), ('cty', '18'), ('hwy', '25'), ('fl', 'r'), ('class', 'subcompact')])\n",
      "OrderedDict([('', '93'), ('manufacturer', 'ford'), ('model', 'mustang'), ('displ', '4'), ('year', '2008'), ('cyl', '6'), ('trans', 'manual(m5)'), ('drv', 'r'), ('cty', '17'), ('hwy', '26'), ('fl', 'r'), ('class', 'subcompact')])\n",
      "OrderedDict([('', '94'), ('manufacturer', 'ford'), ('model', 'mustang'), ('displ', '4'), ('year', '2008'), ('cyl', '6'), ('trans', 'auto(l5)'), ('drv', 'r'), ('cty', '16'), ('hwy', '24'), ('fl', 'r'), ('class', 'subcompact')])\n",
      "OrderedDict([('', '95'), ('manufacturer', 'ford'), ('model', 'mustang'), ('displ', '4.6'), ('year', '1999'), ('cyl', '8'), ('trans', 'auto(l4)'), ('drv', 'r'), ('cty', '15'), ('hwy', '21'), ('fl', 'r'), ('class', 'subcompact')])\n",
      "OrderedDict([('', '96'), ('manufacturer', 'ford'), ('model', 'mustang'), ('displ', '4.6'), ('year', '1999'), ('cyl', '8'), ('trans', 'manual(m5)'), ('drv', 'r'), ('cty', '15'), ('hwy', '22'), ('fl', 'r'), ('class', 'subcompact')])\n",
      "OrderedDict([('', '97'), ('manufacturer', 'ford'), ('model', 'mustang'), ('displ', '4.6'), ('year', '2008'), ('cyl', '8'), ('trans', 'manual(m5)'), ('drv', 'r'), ('cty', '15'), ('hwy', '23'), ('fl', 'r'), ('class', 'subcompact')])\n",
      "OrderedDict([('', '98'), ('manufacturer', 'ford'), ('model', 'mustang'), ('displ', '4.6'), ('year', '2008'), ('cyl', '8'), ('trans', 'auto(l5)'), ('drv', 'r'), ('cty', '15'), ('hwy', '22'), ('fl', 'r'), ('class', 'subcompact')])\n",
      "OrderedDict([('', '99'), ('manufacturer', 'ford'), ('model', 'mustang'), ('displ', '5.4'), ('year', '2008'), ('cyl', '8'), ('trans', 'manual(m6)'), ('drv', 'r'), ('cty', '14'), ('hwy', '20'), ('fl', 'p'), ('class', 'subcompact')])\n",
      "OrderedDict([('', '100'), ('manufacturer', 'honda'), ('model', 'civic'), ('displ', '1.6'), ('year', '1999'), ('cyl', '4'), ('trans', 'manual(m5)'), ('drv', 'f'), ('cty', '28'), ('hwy', '33'), ('fl', 'r'), ('class', 'subcompact')])\n",
      "OrderedDict([('', '101'), ('manufacturer', 'honda'), ('model', 'civic'), ('displ', '1.6'), ('year', '1999'), ('cyl', '4'), ('trans', 'auto(l4)'), ('drv', 'f'), ('cty', '24'), ('hwy', '32'), ('fl', 'r'), ('class', 'subcompact')])\n",
      "OrderedDict([('', '102'), ('manufacturer', 'honda'), ('model', 'civic'), ('displ', '1.6'), ('year', '1999'), ('cyl', '4'), ('trans', 'manual(m5)'), ('drv', 'f'), ('cty', '25'), ('hwy', '32'), ('fl', 'r'), ('class', 'subcompact')])\n",
      "OrderedDict([('', '103'), ('manufacturer', 'honda'), ('model', 'civic'), ('displ', '1.6'), ('year', '1999'), ('cyl', '4'), ('trans', 'manual(m5)'), ('drv', 'f'), ('cty', '23'), ('hwy', '29'), ('fl', 'p'), ('class', 'subcompact')])\n",
      "OrderedDict([('', '104'), ('manufacturer', 'honda'), ('model', 'civic'), ('displ', '1.6'), ('year', '1999'), ('cyl', '4'), ('trans', 'auto(l4)'), ('drv', 'f'), ('cty', '24'), ('hwy', '32'), ('fl', 'r'), ('class', 'subcompact')])\n",
      "OrderedDict([('', '105'), ('manufacturer', 'honda'), ('model', 'civic'), ('displ', '1.8'), ('year', '2008'), ('cyl', '4'), ('trans', 'manual(m5)'), ('drv', 'f'), ('cty', '26'), ('hwy', '34'), ('fl', 'r'), ('class', 'subcompact')])\n",
      "OrderedDict([('', '106'), ('manufacturer', 'honda'), ('model', 'civic'), ('displ', '1.8'), ('year', '2008'), ('cyl', '4'), ('trans', 'auto(l5)'), ('drv', 'f'), ('cty', '25'), ('hwy', '36'), ('fl', 'r'), ('class', 'subcompact')])\n",
      "OrderedDict([('', '107'), ('manufacturer', 'honda'), ('model', 'civic'), ('displ', '1.8'), ('year', '2008'), ('cyl', '4'), ('trans', 'auto(l5)'), ('drv', 'f'), ('cty', '24'), ('hwy', '36'), ('fl', 'c'), ('class', 'subcompact')])\n",
      "OrderedDict([('', '108'), ('manufacturer', 'honda'), ('model', 'civic'), ('displ', '2'), ('year', '2008'), ('cyl', '4'), ('trans', 'manual(m6)'), ('drv', 'f'), ('cty', '21'), ('hwy', '29'), ('fl', 'p'), ('class', 'subcompact')])\n",
      "OrderedDict([('', '109'), ('manufacturer', 'hyundai'), ('model', 'sonata'), ('displ', '2.4'), ('year', '1999'), ('cyl', '4'), ('trans', 'auto(l4)'), ('drv', 'f'), ('cty', '18'), ('hwy', '26'), ('fl', 'r'), ('class', 'midsize')])\n",
      "OrderedDict([('', '110'), ('manufacturer', 'hyundai'), ('model', 'sonata'), ('displ', '2.4'), ('year', '1999'), ('cyl', '4'), ('trans', 'manual(m5)'), ('drv', 'f'), ('cty', '18'), ('hwy', '27'), ('fl', 'r'), ('class', 'midsize')])\n",
      "OrderedDict([('', '111'), ('manufacturer', 'hyundai'), ('model', 'sonata'), ('displ', '2.4'), ('year', '2008'), ('cyl', '4'), ('trans', 'auto(l4)'), ('drv', 'f'), ('cty', '21'), ('hwy', '30'), ('fl', 'r'), ('class', 'midsize')])\n",
      "OrderedDict([('', '112'), ('manufacturer', 'hyundai'), ('model', 'sonata'), ('displ', '2.4'), ('year', '2008'), ('cyl', '4'), ('trans', 'manual(m5)'), ('drv', 'f'), ('cty', '21'), ('hwy', '31'), ('fl', 'r'), ('class', 'midsize')])\n",
      "OrderedDict([('', '113'), ('manufacturer', 'hyundai'), ('model', 'sonata'), ('displ', '2.5'), ('year', '1999'), ('cyl', '6'), ('trans', 'auto(l4)'), ('drv', 'f'), ('cty', '18'), ('hwy', '26'), ('fl', 'r'), ('class', 'midsize')])\n",
      "OrderedDict([('', '114'), ('manufacturer', 'hyundai'), ('model', 'sonata'), ('displ', '2.5'), ('year', '1999'), ('cyl', '6'), ('trans', 'manual(m5)'), ('drv', 'f'), ('cty', '18'), ('hwy', '26'), ('fl', 'r'), ('class', 'midsize')])\n",
      "OrderedDict([('', '115'), ('manufacturer', 'hyundai'), ('model', 'sonata'), ('displ', '3.3'), ('year', '2008'), ('cyl', '6'), ('trans', 'auto(l5)'), ('drv', 'f'), ('cty', '19'), ('hwy', '28'), ('fl', 'r'), ('class', 'midsize')])\n",
      "OrderedDict([('', '116'), ('manufacturer', 'hyundai'), ('model', 'tiburon'), ('displ', '2'), ('year', '1999'), ('cyl', '4'), ('trans', 'auto(l4)'), ('drv', 'f'), ('cty', '19'), ('hwy', '26'), ('fl', 'r'), ('class', 'subcompact')])\n",
      "OrderedDict([('', '117'), ('manufacturer', 'hyundai'), ('model', 'tiburon'), ('displ', '2'), ('year', '1999'), ('cyl', '4'), ('trans', 'manual(m5)'), ('drv', 'f'), ('cty', '19'), ('hwy', '29'), ('fl', 'r'), ('class', 'subcompact')])\n",
      "OrderedDict([('', '118'), ('manufacturer', 'hyundai'), ('model', 'tiburon'), ('displ', '2'), ('year', '2008'), ('cyl', '4'), ('trans', 'manual(m5)'), ('drv', 'f'), ('cty', '20'), ('hwy', '28'), ('fl', 'r'), ('class', 'subcompact')])\n",
      "OrderedDict([('', '119'), ('manufacturer', 'hyundai'), ('model', 'tiburon'), ('displ', '2'), ('year', '2008'), ('cyl', '4'), ('trans', 'auto(l4)'), ('drv', 'f'), ('cty', '20'), ('hwy', '27'), ('fl', 'r'), ('class', 'subcompact')])\n",
      "OrderedDict([('', '120'), ('manufacturer', 'hyundai'), ('model', 'tiburon'), ('displ', '2.7'), ('year', '2008'), ('cyl', '6'), ('trans', 'auto(l4)'), ('drv', 'f'), ('cty', '17'), ('hwy', '24'), ('fl', 'r'), ('class', 'subcompact')])\n",
      "OrderedDict([('', '121'), ('manufacturer', 'hyundai'), ('model', 'tiburon'), ('displ', '2.7'), ('year', '2008'), ('cyl', '6'), ('trans', 'manual(m6)'), ('drv', 'f'), ('cty', '16'), ('hwy', '24'), ('fl', 'r'), ('class', 'subcompact')])\n",
      "OrderedDict([('', '122'), ('manufacturer', 'hyundai'), ('model', 'tiburon'), ('displ', '2.7'), ('year', '2008'), ('cyl', '6'), ('trans', 'manual(m5)'), ('drv', 'f'), ('cty', '17'), ('hwy', '24'), ('fl', 'r'), ('class', 'subcompact')])\n",
      "OrderedDict([('', '123'), ('manufacturer', 'jeep'), ('model', 'grand cherokee 4wd'), ('displ', '3'), ('year', '2008'), ('cyl', '6'), ('trans', 'auto(l5)'), ('drv', '4'), ('cty', '17'), ('hwy', '22'), ('fl', 'd'), ('class', 'suv')])\n",
      "OrderedDict([('', '124'), ('manufacturer', 'jeep'), ('model', 'grand cherokee 4wd'), ('displ', '3.7'), ('year', '2008'), ('cyl', '6'), ('trans', 'auto(l5)'), ('drv', '4'), ('cty', '15'), ('hwy', '19'), ('fl', 'r'), ('class', 'suv')])\n",
      "OrderedDict([('', '125'), ('manufacturer', 'jeep'), ('model', 'grand cherokee 4wd'), ('displ', '4'), ('year', '1999'), ('cyl', '6'), ('trans', 'auto(l4)'), ('drv', '4'), ('cty', '15'), ('hwy', '20'), ('fl', 'r'), ('class', 'suv')])\n",
      "OrderedDict([('', '126'), ('manufacturer', 'jeep'), ('model', 'grand cherokee 4wd'), ('displ', '4.7'), ('year', '1999'), ('cyl', '8'), ('trans', 'auto(l4)'), ('drv', '4'), ('cty', '14'), ('hwy', '17'), ('fl', 'r'), ('class', 'suv')])\n",
      "OrderedDict([('', '127'), ('manufacturer', 'jeep'), ('model', 'grand cherokee 4wd'), ('displ', '4.7'), ('year', '2008'), ('cyl', '8'), ('trans', 'auto(l5)'), ('drv', '4'), ('cty', '9'), ('hwy', '12'), ('fl', 'e'), ('class', 'suv')])\n",
      "OrderedDict([('', '128'), ('manufacturer', 'jeep'), ('model', 'grand cherokee 4wd'), ('displ', '4.7'), ('year', '2008'), ('cyl', '8'), ('trans', 'auto(l5)'), ('drv', '4'), ('cty', '14'), ('hwy', '19'), ('fl', 'r'), ('class', 'suv')])\n",
      "OrderedDict([('', '129'), ('manufacturer', 'jeep'), ('model', 'grand cherokee 4wd'), ('displ', '5.7'), ('year', '2008'), ('cyl', '8'), ('trans', 'auto(l5)'), ('drv', '4'), ('cty', '13'), ('hwy', '18'), ('fl', 'r'), ('class', 'suv')])\n",
      "OrderedDict([('', '130'), ('manufacturer', 'jeep'), ('model', 'grand cherokee 4wd'), ('displ', '6.1'), ('year', '2008'), ('cyl', '8'), ('trans', 'auto(l5)'), ('drv', '4'), ('cty', '11'), ('hwy', '14'), ('fl', 'p'), ('class', 'suv')])\n",
      "OrderedDict([('', '131'), ('manufacturer', 'land rover'), ('model', 'range rover'), ('displ', '4'), ('year', '1999'), ('cyl', '8'), ('trans', 'auto(l4)'), ('drv', '4'), ('cty', '11'), ('hwy', '15'), ('fl', 'p'), ('class', 'suv')])\n",
      "OrderedDict([('', '132'), ('manufacturer', 'land rover'), ('model', 'range rover'), ('displ', '4.2'), ('year', '2008'), ('cyl', '8'), ('trans', 'auto(s6)'), ('drv', '4'), ('cty', '12'), ('hwy', '18'), ('fl', 'r'), ('class', 'suv')])\n",
      "OrderedDict([('', '133'), ('manufacturer', 'land rover'), ('model', 'range rover'), ('displ', '4.4'), ('year', '2008'), ('cyl', '8'), ('trans', 'auto(s6)'), ('drv', '4'), ('cty', '12'), ('hwy', '18'), ('fl', 'r'), ('class', 'suv')])\n",
      "OrderedDict([('', '134'), ('manufacturer', 'land rover'), ('model', 'range rover'), ('displ', '4.6'), ('year', '1999'), ('cyl', '8'), ('trans', 'auto(l4)'), ('drv', '4'), ('cty', '11'), ('hwy', '15'), ('fl', 'p'), ('class', 'suv')])\n",
      "OrderedDict([('', '135'), ('manufacturer', 'lincoln'), ('model', 'navigator 2wd'), ('displ', '5.4'), ('year', '1999'), ('cyl', '8'), ('trans', 'auto(l4)'), ('drv', 'r'), ('cty', '11'), ('hwy', '17'), ('fl', 'r'), ('class', 'suv')])\n",
      "OrderedDict([('', '136'), ('manufacturer', 'lincoln'), ('model', 'navigator 2wd'), ('displ', '5.4'), ('year', '1999'), ('cyl', '8'), ('trans', 'auto(l4)'), ('drv', 'r'), ('cty', '11'), ('hwy', '16'), ('fl', 'p'), ('class', 'suv')])\n",
      "OrderedDict([('', '137'), ('manufacturer', 'lincoln'), ('model', 'navigator 2wd'), ('displ', '5.4'), ('year', '2008'), ('cyl', '8'), ('trans', 'auto(l6)'), ('drv', 'r'), ('cty', '12'), ('hwy', '18'), ('fl', 'r'), ('class', 'suv')])\n",
      "OrderedDict([('', '138'), ('manufacturer', 'mercury'), ('model', 'mountaineer 4wd'), ('displ', '4'), ('year', '1999'), ('cyl', '6'), ('trans', 'auto(l5)'), ('drv', '4'), ('cty', '14'), ('hwy', '17'), ('fl', 'r'), ('class', 'suv')])\n",
      "OrderedDict([('', '139'), ('manufacturer', 'mercury'), ('model', 'mountaineer 4wd'), ('displ', '4'), ('year', '2008'), ('cyl', '6'), ('trans', 'auto(l5)'), ('drv', '4'), ('cty', '13'), ('hwy', '19'), ('fl', 'r'), ('class', 'suv')])\n",
      "OrderedDict([('', '140'), ('manufacturer', 'mercury'), ('model', 'mountaineer 4wd'), ('displ', '4.6'), ('year', '2008'), ('cyl', '8'), ('trans', 'auto(l6)'), ('drv', '4'), ('cty', '13'), ('hwy', '19'), ('fl', 'r'), ('class', 'suv')])\n",
      "OrderedDict([('', '141'), ('manufacturer', 'mercury'), ('model', 'mountaineer 4wd'), ('displ', '5'), ('year', '1999'), ('cyl', '8'), ('trans', 'auto(l4)'), ('drv', '4'), ('cty', '13'), ('hwy', '17'), ('fl', 'r'), ('class', 'suv')])\n",
      "OrderedDict([('', '142'), ('manufacturer', 'nissan'), ('model', 'altima'), ('displ', '2.4'), ('year', '1999'), ('cyl', '4'), ('trans', 'manual(m5)'), ('drv', 'f'), ('cty', '21'), ('hwy', '29'), ('fl', 'r'), ('class', 'compact')])\n",
      "OrderedDict([('', '143'), ('manufacturer', 'nissan'), ('model', 'altima'), ('displ', '2.4'), ('year', '1999'), ('cyl', '4'), ('trans', 'auto(l4)'), ('drv', 'f'), ('cty', '19'), ('hwy', '27'), ('fl', 'r'), ('class', 'compact')])\n",
      "OrderedDict([('', '144'), ('manufacturer', 'nissan'), ('model', 'altima'), ('displ', '2.5'), ('year', '2008'), ('cyl', '4'), ('trans', 'auto(av)'), ('drv', 'f'), ('cty', '23'), ('hwy', '31'), ('fl', 'r'), ('class', 'midsize')])\n",
      "OrderedDict([('', '145'), ('manufacturer', 'nissan'), ('model', 'altima'), ('displ', '2.5'), ('year', '2008'), ('cyl', '4'), ('trans', 'manual(m6)'), ('drv', 'f'), ('cty', '23'), ('hwy', '32'), ('fl', 'r'), ('class', 'midsize')])\n",
      "OrderedDict([('', '146'), ('manufacturer', 'nissan'), ('model', 'altima'), ('displ', '3.5'), ('year', '2008'), ('cyl', '6'), ('trans', 'manual(m6)'), ('drv', 'f'), ('cty', '19'), ('hwy', '27'), ('fl', 'p'), ('class', 'midsize')])\n",
      "OrderedDict([('', '147'), ('manufacturer', 'nissan'), ('model', 'altima'), ('displ', '3.5'), ('year', '2008'), ('cyl', '6'), ('trans', 'auto(av)'), ('drv', 'f'), ('cty', '19'), ('hwy', '26'), ('fl', 'p'), ('class', 'midsize')])\n",
      "OrderedDict([('', '148'), ('manufacturer', 'nissan'), ('model', 'maxima'), ('displ', '3'), ('year', '1999'), ('cyl', '6'), ('trans', 'auto(l4)'), ('drv', 'f'), ('cty', '18'), ('hwy', '26'), ('fl', 'r'), ('class', 'midsize')])\n",
      "OrderedDict([('', '149'), ('manufacturer', 'nissan'), ('model', 'maxima'), ('displ', '3'), ('year', '1999'), ('cyl', '6'), ('trans', 'manual(m5)'), ('drv', 'f'), ('cty', '19'), ('hwy', '25'), ('fl', 'r'), ('class', 'midsize')])\n",
      "OrderedDict([('', '150'), ('manufacturer', 'nissan'), ('model', 'maxima'), ('displ', '3.5'), ('year', '2008'), ('cyl', '6'), ('trans', 'auto(av)'), ('drv', 'f'), ('cty', '19'), ('hwy', '25'), ('fl', 'p'), ('class', 'midsize')])\n",
      "OrderedDict([('', '151'), ('manufacturer', 'nissan'), ('model', 'pathfinder 4wd'), ('displ', '3.3'), ('year', '1999'), ('cyl', '6'), ('trans', 'auto(l4)'), ('drv', '4'), ('cty', '14'), ('hwy', '17'), ('fl', 'r'), ('class', 'suv')])\n",
      "OrderedDict([('', '152'), ('manufacturer', 'nissan'), ('model', 'pathfinder 4wd'), ('displ', '3.3'), ('year', '1999'), ('cyl', '6'), ('trans', 'manual(m5)'), ('drv', '4'), ('cty', '15'), ('hwy', '17'), ('fl', 'r'), ('class', 'suv')])\n",
      "OrderedDict([('', '153'), ('manufacturer', 'nissan'), ('model', 'pathfinder 4wd'), ('displ', '4'), ('year', '2008'), ('cyl', '6'), ('trans', 'auto(l5)'), ('drv', '4'), ('cty', '14'), ('hwy', '20'), ('fl', 'p'), ('class', 'suv')])\n",
      "OrderedDict([('', '154'), ('manufacturer', 'nissan'), ('model', 'pathfinder 4wd'), ('displ', '5.6'), ('year', '2008'), ('cyl', '8'), ('trans', 'auto(s5)'), ('drv', '4'), ('cty', '12'), ('hwy', '18'), ('fl', 'p'), ('class', 'suv')])\n",
      "OrderedDict([('', '155'), ('manufacturer', 'pontiac'), ('model', 'grand prix'), ('displ', '3.1'), ('year', '1999'), ('cyl', '6'), ('trans', 'auto(l4)'), ('drv', 'f'), ('cty', '18'), ('hwy', '26'), ('fl', 'r'), ('class', 'midsize')])\n",
      "OrderedDict([('', '156'), ('manufacturer', 'pontiac'), ('model', 'grand prix'), ('displ', '3.8'), ('year', '1999'), ('cyl', '6'), ('trans', 'auto(l4)'), ('drv', 'f'), ('cty', '16'), ('hwy', '26'), ('fl', 'p'), ('class', 'midsize')])\n",
      "OrderedDict([('', '157'), ('manufacturer', 'pontiac'), ('model', 'grand prix'), ('displ', '3.8'), ('year', '1999'), ('cyl', '6'), ('trans', 'auto(l4)'), ('drv', 'f'), ('cty', '17'), ('hwy', '27'), ('fl', 'r'), ('class', 'midsize')])\n",
      "OrderedDict([('', '158'), ('manufacturer', 'pontiac'), ('model', 'grand prix'), ('displ', '3.8'), ('year', '2008'), ('cyl', '6'), ('trans', 'auto(l4)'), ('drv', 'f'), ('cty', '18'), ('hwy', '28'), ('fl', 'r'), ('class', 'midsize')])\n",
      "OrderedDict([('', '159'), ('manufacturer', 'pontiac'), ('model', 'grand prix'), ('displ', '5.3'), ('year', '2008'), ('cyl', '8'), ('trans', 'auto(s4)'), ('drv', 'f'), ('cty', '16'), ('hwy', '25'), ('fl', 'p'), ('class', 'midsize')])\n",
      "OrderedDict([('', '160'), ('manufacturer', 'subaru'), ('model', 'forester awd'), ('displ', '2.5'), ('year', '1999'), ('cyl', '4'), ('trans', 'manual(m5)'), ('drv', '4'), ('cty', '18'), ('hwy', '25'), ('fl', 'r'), ('class', 'suv')])\n",
      "OrderedDict([('', '161'), ('manufacturer', 'subaru'), ('model', 'forester awd'), ('displ', '2.5'), ('year', '1999'), ('cyl', '4'), ('trans', 'auto(l4)'), ('drv', '4'), ('cty', '18'), ('hwy', '24'), ('fl', 'r'), ('class', 'suv')])\n",
      "OrderedDict([('', '162'), ('manufacturer', 'subaru'), ('model', 'forester awd'), ('displ', '2.5'), ('year', '2008'), ('cyl', '4'), ('trans', 'manual(m5)'), ('drv', '4'), ('cty', '20'), ('hwy', '27'), ('fl', 'r'), ('class', 'suv')])\n",
      "OrderedDict([('', '163'), ('manufacturer', 'subaru'), ('model', 'forester awd'), ('displ', '2.5'), ('year', '2008'), ('cyl', '4'), ('trans', 'manual(m5)'), ('drv', '4'), ('cty', '19'), ('hwy', '25'), ('fl', 'p'), ('class', 'suv')])\n",
      "OrderedDict([('', '164'), ('manufacturer', 'subaru'), ('model', 'forester awd'), ('displ', '2.5'), ('year', '2008'), ('cyl', '4'), ('trans', 'auto(l4)'), ('drv', '4'), ('cty', '20'), ('hwy', '26'), ('fl', 'r'), ('class', 'suv')])\n",
      "OrderedDict([('', '165'), ('manufacturer', 'subaru'), ('model', 'forester awd'), ('displ', '2.5'), ('year', '2008'), ('cyl', '4'), ('trans', 'auto(l4)'), ('drv', '4'), ('cty', '18'), ('hwy', '23'), ('fl', 'p'), ('class', 'suv')])\n",
      "OrderedDict([('', '166'), ('manufacturer', 'subaru'), ('model', 'impreza awd'), ('displ', '2.2'), ('year', '1999'), ('cyl', '4'), ('trans', 'auto(l4)'), ('drv', '4'), ('cty', '21'), ('hwy', '26'), ('fl', 'r'), ('class', 'subcompact')])\n",
      "OrderedDict([('', '167'), ('manufacturer', 'subaru'), ('model', 'impreza awd'), ('displ', '2.2'), ('year', '1999'), ('cyl', '4'), ('trans', 'manual(m5)'), ('drv', '4'), ('cty', '19'), ('hwy', '26'), ('fl', 'r'), ('class', 'subcompact')])\n",
      "OrderedDict([('', '168'), ('manufacturer', 'subaru'), ('model', 'impreza awd'), ('displ', '2.5'), ('year', '1999'), ('cyl', '4'), ('trans', 'manual(m5)'), ('drv', '4'), ('cty', '19'), ('hwy', '26'), ('fl', 'r'), ('class', 'subcompact')])\n",
      "OrderedDict([('', '169'), ('manufacturer', 'subaru'), ('model', 'impreza awd'), ('displ', '2.5'), ('year', '1999'), ('cyl', '4'), ('trans', 'auto(l4)'), ('drv', '4'), ('cty', '19'), ('hwy', '26'), ('fl', 'r'), ('class', 'subcompact')])\n",
      "OrderedDict([('', '170'), ('manufacturer', 'subaru'), ('model', 'impreza awd'), ('displ', '2.5'), ('year', '2008'), ('cyl', '4'), ('trans', 'auto(s4)'), ('drv', '4'), ('cty', '20'), ('hwy', '25'), ('fl', 'p'), ('class', 'compact')])\n",
      "OrderedDict([('', '171'), ('manufacturer', 'subaru'), ('model', 'impreza awd'), ('displ', '2.5'), ('year', '2008'), ('cyl', '4'), ('trans', 'auto(s4)'), ('drv', '4'), ('cty', '20'), ('hwy', '27'), ('fl', 'r'), ('class', 'compact')])\n",
      "OrderedDict([('', '172'), ('manufacturer', 'subaru'), ('model', 'impreza awd'), ('displ', '2.5'), ('year', '2008'), ('cyl', '4'), ('trans', 'manual(m5)'), ('drv', '4'), ('cty', '19'), ('hwy', '25'), ('fl', 'p'), ('class', 'compact')])\n",
      "OrderedDict([('', '173'), ('manufacturer', 'subaru'), ('model', 'impreza awd'), ('displ', '2.5'), ('year', '2008'), ('cyl', '4'), ('trans', 'manual(m5)'), ('drv', '4'), ('cty', '20'), ('hwy', '27'), ('fl', 'r'), ('class', 'compact')])\n",
      "OrderedDict([('', '174'), ('manufacturer', 'toyota'), ('model', '4runner 4wd'), ('displ', '2.7'), ('year', '1999'), ('cyl', '4'), ('trans', 'manual(m5)'), ('drv', '4'), ('cty', '15'), ('hwy', '20'), ('fl', 'r'), ('class', 'suv')])\n",
      "OrderedDict([('', '175'), ('manufacturer', 'toyota'), ('model', '4runner 4wd'), ('displ', '2.7'), ('year', '1999'), ('cyl', '4'), ('trans', 'auto(l4)'), ('drv', '4'), ('cty', '16'), ('hwy', '20'), ('fl', 'r'), ('class', 'suv')])\n",
      "OrderedDict([('', '176'), ('manufacturer', 'toyota'), ('model', '4runner 4wd'), ('displ', '3.4'), ('year', '1999'), ('cyl', '6'), ('trans', 'auto(l4)'), ('drv', '4'), ('cty', '15'), ('hwy', '19'), ('fl', 'r'), ('class', 'suv')])\n",
      "OrderedDict([('', '177'), ('manufacturer', 'toyota'), ('model', '4runner 4wd'), ('displ', '3.4'), ('year', '1999'), ('cyl', '6'), ('trans', 'manual(m5)'), ('drv', '4'), ('cty', '15'), ('hwy', '17'), ('fl', 'r'), ('class', 'suv')])\n",
      "OrderedDict([('', '178'), ('manufacturer', 'toyota'), ('model', '4runner 4wd'), ('displ', '4'), ('year', '2008'), ('cyl', '6'), ('trans', 'auto(l5)'), ('drv', '4'), ('cty', '16'), ('hwy', '20'), ('fl', 'r'), ('class', 'suv')])\n",
      "OrderedDict([('', '179'), ('manufacturer', 'toyota'), ('model', '4runner 4wd'), ('displ', '4.7'), ('year', '2008'), ('cyl', '8'), ('trans', 'auto(l5)'), ('drv', '4'), ('cty', '14'), ('hwy', '17'), ('fl', 'r'), ('class', 'suv')])\n",
      "OrderedDict([('', '180'), ('manufacturer', 'toyota'), ('model', 'camry'), ('displ', '2.2'), ('year', '1999'), ('cyl', '4'), ('trans', 'manual(m5)'), ('drv', 'f'), ('cty', '21'), ('hwy', '29'), ('fl', 'r'), ('class', 'midsize')])\n",
      "OrderedDict([('', '181'), ('manufacturer', 'toyota'), ('model', 'camry'), ('displ', '2.2'), ('year', '1999'), ('cyl', '4'), ('trans', 'auto(l4)'), ('drv', 'f'), ('cty', '21'), ('hwy', '27'), ('fl', 'r'), ('class', 'midsize')])\n",
      "OrderedDict([('', '182'), ('manufacturer', 'toyota'), ('model', 'camry'), ('displ', '2.4'), ('year', '2008'), ('cyl', '4'), ('trans', 'manual(m5)'), ('drv', 'f'), ('cty', '21'), ('hwy', '31'), ('fl', 'r'), ('class', 'midsize')])\n",
      "OrderedDict([('', '183'), ('manufacturer', 'toyota'), ('model', 'camry'), ('displ', '2.4'), ('year', '2008'), ('cyl', '4'), ('trans', 'auto(l5)'), ('drv', 'f'), ('cty', '21'), ('hwy', '31'), ('fl', 'r'), ('class', 'midsize')])\n",
      "OrderedDict([('', '184'), ('manufacturer', 'toyota'), ('model', 'camry'), ('displ', '3'), ('year', '1999'), ('cyl', '6'), ('trans', 'auto(l4)'), ('drv', 'f'), ('cty', '18'), ('hwy', '26'), ('fl', 'r'), ('class', 'midsize')])\n",
      "OrderedDict([('', '185'), ('manufacturer', 'toyota'), ('model', 'camry'), ('displ', '3'), ('year', '1999'), ('cyl', '6'), ('trans', 'manual(m5)'), ('drv', 'f'), ('cty', '18'), ('hwy', '26'), ('fl', 'r'), ('class', 'midsize')])\n",
      "OrderedDict([('', '186'), ('manufacturer', 'toyota'), ('model', 'camry'), ('displ', '3.5'), ('year', '2008'), ('cyl', '6'), ('trans', 'auto(s6)'), ('drv', 'f'), ('cty', '19'), ('hwy', '28'), ('fl', 'r'), ('class', 'midsize')])\n",
      "OrderedDict([('', '187'), ('manufacturer', 'toyota'), ('model', 'camry solara'), ('displ', '2.2'), ('year', '1999'), ('cyl', '4'), ('trans', 'auto(l4)'), ('drv', 'f'), ('cty', '21'), ('hwy', '27'), ('fl', 'r'), ('class', 'compact')])\n",
      "OrderedDict([('', '188'), ('manufacturer', 'toyota'), ('model', 'camry solara'), ('displ', '2.2'), ('year', '1999'), ('cyl', '4'), ('trans', 'manual(m5)'), ('drv', 'f'), ('cty', '21'), ('hwy', '29'), ('fl', 'r'), ('class', 'compact')])\n",
      "OrderedDict([('', '189'), ('manufacturer', 'toyota'), ('model', 'camry solara'), ('displ', '2.4'), ('year', '2008'), ('cyl', '4'), ('trans', 'manual(m5)'), ('drv', 'f'), ('cty', '21'), ('hwy', '31'), ('fl', 'r'), ('class', 'compact')])\n",
      "OrderedDict([('', '190'), ('manufacturer', 'toyota'), ('model', 'camry solara'), ('displ', '2.4'), ('year', '2008'), ('cyl', '4'), ('trans', 'auto(s5)'), ('drv', 'f'), ('cty', '22'), ('hwy', '31'), ('fl', 'r'), ('class', 'compact')])\n",
      "OrderedDict([('', '191'), ('manufacturer', 'toyota'), ('model', 'camry solara'), ('displ', '3'), ('year', '1999'), ('cyl', '6'), ('trans', 'auto(l4)'), ('drv', 'f'), ('cty', '18'), ('hwy', '26'), ('fl', 'r'), ('class', 'compact')])\n",
      "OrderedDict([('', '192'), ('manufacturer', 'toyota'), ('model', 'camry solara'), ('displ', '3'), ('year', '1999'), ('cyl', '6'), ('trans', 'manual(m5)'), ('drv', 'f'), ('cty', '18'), ('hwy', '26'), ('fl', 'r'), ('class', 'compact')])\n",
      "OrderedDict([('', '193'), ('manufacturer', 'toyota'), ('model', 'camry solara'), ('displ', '3.3'), ('year', '2008'), ('cyl', '6'), ('trans', 'auto(s5)'), ('drv', 'f'), ('cty', '18'), ('hwy', '27'), ('fl', 'r'), ('class', 'compact')])\n",
      "OrderedDict([('', '194'), ('manufacturer', 'toyota'), ('model', 'corolla'), ('displ', '1.8'), ('year', '1999'), ('cyl', '4'), ('trans', 'auto(l3)'), ('drv', 'f'), ('cty', '24'), ('hwy', '30'), ('fl', 'r'), ('class', 'compact')])\n",
      "OrderedDict([('', '195'), ('manufacturer', 'toyota'), ('model', 'corolla'), ('displ', '1.8'), ('year', '1999'), ('cyl', '4'), ('trans', 'auto(l4)'), ('drv', 'f'), ('cty', '24'), ('hwy', '33'), ('fl', 'r'), ('class', 'compact')])\n",
      "OrderedDict([('', '196'), ('manufacturer', 'toyota'), ('model', 'corolla'), ('displ', '1.8'), ('year', '1999'), ('cyl', '4'), ('trans', 'manual(m5)'), ('drv', 'f'), ('cty', '26'), ('hwy', '35'), ('fl', 'r'), ('class', 'compact')])\n",
      "OrderedDict([('', '197'), ('manufacturer', 'toyota'), ('model', 'corolla'), ('displ', '1.8'), ('year', '2008'), ('cyl', '4'), ('trans', 'manual(m5)'), ('drv', 'f'), ('cty', '28'), ('hwy', '37'), ('fl', 'r'), ('class', 'compact')])\n",
      "OrderedDict([('', '198'), ('manufacturer', 'toyota'), ('model', 'corolla'), ('displ', '1.8'), ('year', '2008'), ('cyl', '4'), ('trans', 'auto(l4)'), ('drv', 'f'), ('cty', '26'), ('hwy', '35'), ('fl', 'r'), ('class', 'compact')])\n",
      "OrderedDict([('', '199'), ('manufacturer', 'toyota'), ('model', 'land cruiser wagon 4wd'), ('displ', '4.7'), ('year', '1999'), ('cyl', '8'), ('trans', 'auto(l4)'), ('drv', '4'), ('cty', '11'), ('hwy', '15'), ('fl', 'r'), ('class', 'suv')])\n",
      "OrderedDict([('', '200'), ('manufacturer', 'toyota'), ('model', 'land cruiser wagon 4wd'), ('displ', '5.7'), ('year', '2008'), ('cyl', '8'), ('trans', 'auto(s6)'), ('drv', '4'), ('cty', '13'), ('hwy', '18'), ('fl', 'r'), ('class', 'suv')])\n",
      "OrderedDict([('', '201'), ('manufacturer', 'toyota'), ('model', 'toyota tacoma 4wd'), ('displ', '2.7'), ('year', '1999'), ('cyl', '4'), ('trans', 'manual(m5)'), ('drv', '4'), ('cty', '15'), ('hwy', '20'), ('fl', 'r'), ('class', 'pickup')])\n",
      "OrderedDict([('', '202'), ('manufacturer', 'toyota'), ('model', 'toyota tacoma 4wd'), ('displ', '2.7'), ('year', '1999'), ('cyl', '4'), ('trans', 'auto(l4)'), ('drv', '4'), ('cty', '16'), ('hwy', '20'), ('fl', 'r'), ('class', 'pickup')])\n",
      "OrderedDict([('', '203'), ('manufacturer', 'toyota'), ('model', 'toyota tacoma 4wd'), ('displ', '2.7'), ('year', '2008'), ('cyl', '4'), ('trans', 'manual(m5)'), ('drv', '4'), ('cty', '17'), ('hwy', '22'), ('fl', 'r'), ('class', 'pickup')])\n",
      "OrderedDict([('', '204'), ('manufacturer', 'toyota'), ('model', 'toyota tacoma 4wd'), ('displ', '3.4'), ('year', '1999'), ('cyl', '6'), ('trans', 'manual(m5)'), ('drv', '4'), ('cty', '15'), ('hwy', '17'), ('fl', 'r'), ('class', 'pickup')])\n",
      "OrderedDict([('', '205'), ('manufacturer', 'toyota'), ('model', 'toyota tacoma 4wd'), ('displ', '3.4'), ('year', '1999'), ('cyl', '6'), ('trans', 'auto(l4)'), ('drv', '4'), ('cty', '15'), ('hwy', '19'), ('fl', 'r'), ('class', 'pickup')])\n",
      "OrderedDict([('', '206'), ('manufacturer', 'toyota'), ('model', 'toyota tacoma 4wd'), ('displ', '4'), ('year', '2008'), ('cyl', '6'), ('trans', 'manual(m6)'), ('drv', '4'), ('cty', '15'), ('hwy', '18'), ('fl', 'r'), ('class', 'pickup')])\n",
      "OrderedDict([('', '207'), ('manufacturer', 'toyota'), ('model', 'toyota tacoma 4wd'), ('displ', '4'), ('year', '2008'), ('cyl', '6'), ('trans', 'auto(l5)'), ('drv', '4'), ('cty', '16'), ('hwy', '20'), ('fl', 'r'), ('class', 'pickup')])\n",
      "OrderedDict([('', '208'), ('manufacturer', 'volkswagen'), ('model', 'gti'), ('displ', '2'), ('year', '1999'), ('cyl', '4'), ('trans', 'manual(m5)'), ('drv', 'f'), ('cty', '21'), ('hwy', '29'), ('fl', 'r'), ('class', 'compact')])\n",
      "OrderedDict([('', '209'), ('manufacturer', 'volkswagen'), ('model', 'gti'), ('displ', '2'), ('year', '1999'), ('cyl', '4'), ('trans', 'auto(l4)'), ('drv', 'f'), ('cty', '19'), ('hwy', '26'), ('fl', 'r'), ('class', 'compact')])\n",
      "OrderedDict([('', '210'), ('manufacturer', 'volkswagen'), ('model', 'gti'), ('displ', '2'), ('year', '2008'), ('cyl', '4'), ('trans', 'manual(m6)'), ('drv', 'f'), ('cty', '21'), ('hwy', '29'), ('fl', 'p'), ('class', 'compact')])\n",
      "OrderedDict([('', '211'), ('manufacturer', 'volkswagen'), ('model', 'gti'), ('displ', '2'), ('year', '2008'), ('cyl', '4'), ('trans', 'auto(s6)'), ('drv', 'f'), ('cty', '22'), ('hwy', '29'), ('fl', 'p'), ('class', 'compact')])\n",
      "OrderedDict([('', '212'), ('manufacturer', 'volkswagen'), ('model', 'gti'), ('displ', '2.8'), ('year', '1999'), ('cyl', '6'), ('trans', 'manual(m5)'), ('drv', 'f'), ('cty', '17'), ('hwy', '24'), ('fl', 'r'), ('class', 'compact')])\n",
      "OrderedDict([('', '213'), ('manufacturer', 'volkswagen'), ('model', 'jetta'), ('displ', '1.9'), ('year', '1999'), ('cyl', '4'), ('trans', 'manual(m5)'), ('drv', 'f'), ('cty', '33'), ('hwy', '44'), ('fl', 'd'), ('class', 'compact')])\n",
      "OrderedDict([('', '214'), ('manufacturer', 'volkswagen'), ('model', 'jetta'), ('displ', '2'), ('year', '1999'), ('cyl', '4'), ('trans', 'manual(m5)'), ('drv', 'f'), ('cty', '21'), ('hwy', '29'), ('fl', 'r'), ('class', 'compact')])\n",
      "OrderedDict([('', '215'), ('manufacturer', 'volkswagen'), ('model', 'jetta'), ('displ', '2'), ('year', '1999'), ('cyl', '4'), ('trans', 'auto(l4)'), ('drv', 'f'), ('cty', '19'), ('hwy', '26'), ('fl', 'r'), ('class', 'compact')])\n",
      "OrderedDict([('', '216'), ('manufacturer', 'volkswagen'), ('model', 'jetta'), ('displ', '2'), ('year', '2008'), ('cyl', '4'), ('trans', 'auto(s6)'), ('drv', 'f'), ('cty', '22'), ('hwy', '29'), ('fl', 'p'), ('class', 'compact')])\n",
      "OrderedDict([('', '217'), ('manufacturer', 'volkswagen'), ('model', 'jetta'), ('displ', '2'), ('year', '2008'), ('cyl', '4'), ('trans', 'manual(m6)'), ('drv', 'f'), ('cty', '21'), ('hwy', '29'), ('fl', 'p'), ('class', 'compact')])\n",
      "OrderedDict([('', '218'), ('manufacturer', 'volkswagen'), ('model', 'jetta'), ('displ', '2.5'), ('year', '2008'), ('cyl', '5'), ('trans', 'auto(s6)'), ('drv', 'f'), ('cty', '21'), ('hwy', '29'), ('fl', 'r'), ('class', 'compact')])\n",
      "OrderedDict([('', '219'), ('manufacturer', 'volkswagen'), ('model', 'jetta'), ('displ', '2.5'), ('year', '2008'), ('cyl', '5'), ('trans', 'manual(m5)'), ('drv', 'f'), ('cty', '21'), ('hwy', '29'), ('fl', 'r'), ('class', 'compact')])\n",
      "OrderedDict([('', '220'), ('manufacturer', 'volkswagen'), ('model', 'jetta'), ('displ', '2.8'), ('year', '1999'), ('cyl', '6'), ('trans', 'auto(l4)'), ('drv', 'f'), ('cty', '16'), ('hwy', '23'), ('fl', 'r'), ('class', 'compact')])\n",
      "OrderedDict([('', '221'), ('manufacturer', 'volkswagen'), ('model', 'jetta'), ('displ', '2.8'), ('year', '1999'), ('cyl', '6'), ('trans', 'manual(m5)'), ('drv', 'f'), ('cty', '17'), ('hwy', '24'), ('fl', 'r'), ('class', 'compact')])\n",
      "OrderedDict([('', '222'), ('manufacturer', 'volkswagen'), ('model', 'new beetle'), ('displ', '1.9'), ('year', '1999'), ('cyl', '4'), ('trans', 'manual(m5)'), ('drv', 'f'), ('cty', '35'), ('hwy', '44'), ('fl', 'd'), ('class', 'subcompact')])\n",
      "OrderedDict([('', '223'), ('manufacturer', 'volkswagen'), ('model', 'new beetle'), ('displ', '1.9'), ('year', '1999'), ('cyl', '4'), ('trans', 'auto(l4)'), ('drv', 'f'), ('cty', '29'), ('hwy', '41'), ('fl', 'd'), ('class', 'subcompact')])\n",
      "OrderedDict([('', '224'), ('manufacturer', 'volkswagen'), ('model', 'new beetle'), ('displ', '2'), ('year', '1999'), ('cyl', '4'), ('trans', 'manual(m5)'), ('drv', 'f'), ('cty', '21'), ('hwy', '29'), ('fl', 'r'), ('class', 'subcompact')])\n",
      "OrderedDict([('', '225'), ('manufacturer', 'volkswagen'), ('model', 'new beetle'), ('displ', '2'), ('year', '1999'), ('cyl', '4'), ('trans', 'auto(l4)'), ('drv', 'f'), ('cty', '19'), ('hwy', '26'), ('fl', 'r'), ('class', 'subcompact')])\n",
      "OrderedDict([('', '226'), ('manufacturer', 'volkswagen'), ('model', 'new beetle'), ('displ', '2.5'), ('year', '2008'), ('cyl', '5'), ('trans', 'manual(m5)'), ('drv', 'f'), ('cty', '20'), ('hwy', '28'), ('fl', 'r'), ('class', 'subcompact')])\n",
      "OrderedDict([('', '227'), ('manufacturer', 'volkswagen'), ('model', 'new beetle'), ('displ', '2.5'), ('year', '2008'), ('cyl', '5'), ('trans', 'auto(s6)'), ('drv', 'f'), ('cty', '20'), ('hwy', '29'), ('fl', 'r'), ('class', 'subcompact')])\n",
      "OrderedDict([('', '228'), ('manufacturer', 'volkswagen'), ('model', 'passat'), ('displ', '1.8'), ('year', '1999'), ('cyl', '4'), ('trans', 'manual(m5)'), ('drv', 'f'), ('cty', '21'), ('hwy', '29'), ('fl', 'p'), ('class', 'midsize')])\n",
      "OrderedDict([('', '229'), ('manufacturer', 'volkswagen'), ('model', 'passat'), ('displ', '1.8'), ('year', '1999'), ('cyl', '4'), ('trans', 'auto(l5)'), ('drv', 'f'), ('cty', '18'), ('hwy', '29'), ('fl', 'p'), ('class', 'midsize')])\n",
      "OrderedDict([('', '230'), ('manufacturer', 'volkswagen'), ('model', 'passat'), ('displ', '2'), ('year', '2008'), ('cyl', '4'), ('trans', 'auto(s6)'), ('drv', 'f'), ('cty', '19'), ('hwy', '28'), ('fl', 'p'), ('class', 'midsize')])\n",
      "OrderedDict([('', '231'), ('manufacturer', 'volkswagen'), ('model', 'passat'), ('displ', '2'), ('year', '2008'), ('cyl', '4'), ('trans', 'manual(m6)'), ('drv', 'f'), ('cty', '21'), ('hwy', '29'), ('fl', 'p'), ('class', 'midsize')])\n",
      "OrderedDict([('', '232'), ('manufacturer', 'volkswagen'), ('model', 'passat'), ('displ', '2.8'), ('year', '1999'), ('cyl', '6'), ('trans', 'auto(l5)'), ('drv', 'f'), ('cty', '16'), ('hwy', '26'), ('fl', 'p'), ('class', 'midsize')])\n",
      "OrderedDict([('', '233'), ('manufacturer', 'volkswagen'), ('model', 'passat'), ('displ', '2.8'), ('year', '1999'), ('cyl', '6'), ('trans', 'manual(m5)'), ('drv', 'f'), ('cty', '18'), ('hwy', '26'), ('fl', 'p'), ('class', 'midsize')])\n",
      "OrderedDict([('', '234'), ('manufacturer', 'volkswagen'), ('model', 'passat'), ('displ', '3.6'), ('year', '2008'), ('cyl', '6'), ('trans', 'auto(s6)'), ('drv', 'f'), ('cty', '17'), ('hwy', '26'), ('fl', 'p'), ('class', 'midsize')])\n"
     ]
    }
   ],
   "source": [
    "import csv\n",
    "with open('mpg.csv','r') as csvfile:\n",
    "    reader=list(csv.DictReader(csvfile))\n",
    "    for r in reader:\n",
    "        print (r)"
   ]
  },
  {
   "cell_type": "markdown",
   "metadata": {},
   "source": [
    "Find the average cty fuel economy across all cars. All values in the dictionaries are strings."
   ]
  },
  {
   "cell_type": "code",
   "execution_count": 11,
   "metadata": {},
   "outputs": [
    {
     "name": "stdout",
     "output_type": "stream",
     "text": [
      "16.858974358974358\n"
     ]
    }
   ],
   "source": [
    "import csv\n",
    "from statistics import mean\n",
    "with open('mpg.csv','r') as csvfile:\n",
    "    reader=list(csv.DictReader(csvfile))\n",
    "    print ((mean(float(item['cty']) for item in reader)))"
   ]
  },
  {
   "cell_type": "markdown",
   "metadata": {},
   "source": [
    "Find the average hwy fuel economy across all cars"
   ]
  },
  {
   "cell_type": "code",
   "execution_count": null,
   "metadata": {},
   "outputs": [],
   "source": [
    "import csv\n",
    "from statistics import mean\n",
    "with open('mpg.csv','r') as csvfile:\n",
    "    reader=list(csv.DictReader(csvfile))\n",
    "    print ((mean(float(item['hwy']) for item in reader)))"
   ]
  },
  {
   "cell_type": "markdown",
   "metadata": {},
   "source": [
    "Use set to return the unique values for the number of cylinders the cars."
   ]
  },
  {
   "cell_type": "code",
   "execution_count": 22,
   "metadata": {},
   "outputs": [
    {
     "name": "stdout",
     "output_type": "stream",
     "text": [
      "Number of cylinders: 4, average cty result: 21.012345679012345\n",
      "Number of cylinders: 5, average cty result: 20.5\n",
      "Number of cylinders: 6, average cty result: 16.21518987341772\n",
      "Number of cylinders: 8, average cty result: 12.571428571428571\n"
     ]
    }
   ],
   "source": [
    "from statistics import mean\n",
    "from itertools import groupby\n",
    "with open('mpg.csv','r') as csvfile:\n",
    "    reader=list(csv.DictReader(csvfile))\n",
    "for v, g in groupby(sorted(reader, key=lambda k: int(k['cyl'])), lambda k: int(k['cyl'])):\n",
    "    print('Number of cylinders: {}, average cty result: {}'.format(v, mean(float(item['cty']) for item in g)))\n"
   ]
  },
  {
   "cell_type": "markdown",
   "metadata": {},
   "source": [
    "Group the cars by number of cylinder, and finding the average cty mpg for each group."
   ]
  },
  {
   "cell_type": "code",
   "execution_count": null,
   "metadata": {},
   "outputs": [],
   "source": [
    "MpgByCyl = []\n",
    "\n",
    "for i in cylinders: # iterate over all the cylinder levels\n",
    "    sumpg = 0\n",
    "    typecount = 0\n",
    "    for d in mpg: # iterate over all dictionaries\n",
    "        ##ADD REMAINING CODE"
   ]
  },
  {
   "cell_type": "markdown",
   "metadata": {},
   "source": [
    "Return the unique values for the class types in our dataset using set."
   ]
  },
  {
   "cell_type": "code",
   "execution_count": 23,
   "metadata": {},
   "outputs": [
    {
     "ename": "NameError",
     "evalue": "name 'mpg' is not defined",
     "output_type": "error",
     "traceback": [
      "\u001b[1;31m---------------------------------------------------------------------------\u001b[0m",
      "\u001b[1;31mNameError\u001b[0m                                 Traceback (most recent call last)",
      "\u001b[1;32m<ipython-input-23-d637ad75da79>\u001b[0m in \u001b[0;36m<module>\u001b[1;34m\u001b[0m\n\u001b[1;32m----> 1\u001b[1;33m \u001b[0mvehicleclass\u001b[0m \u001b[1;33m=\u001b[0m \u001b[0mset\u001b[0m\u001b[1;33m(\u001b[0m\u001b[0md\u001b[0m\u001b[1;33m[\u001b[0m\u001b[1;34m'class'\u001b[0m\u001b[1;33m]\u001b[0m \u001b[1;32mfor\u001b[0m \u001b[0md\u001b[0m \u001b[1;32min\u001b[0m \u001b[0mmpg\u001b[0m\u001b[1;33m)\u001b[0m\u001b[1;33m\u001b[0m\u001b[1;33m\u001b[0m\u001b[0m\n\u001b[0m\u001b[0;32m      2\u001b[0m \u001b[0mprint\u001b[0m\u001b[1;33m(\u001b[0m\u001b[0mvehicleclass\u001b[0m\u001b[1;33m)\u001b[0m\u001b[1;33m\u001b[0m\u001b[1;33m\u001b[0m\u001b[0m\n",
      "\u001b[1;31mNameError\u001b[0m: name 'mpg' is not defined"
     ]
    }
   ],
   "source": [
    "vehicleclass = set(d['class'] for d in mpg)\n",
    "print(vehicleclass)"
   ]
  },
  {
   "cell_type": "markdown",
   "metadata": {},
   "source": [
    "Find average miles per gallon in the highway for each class of vehicles"
   ]
  },
  {
   "cell_type": "code",
   "execution_count": null,
   "metadata": {},
   "outputs": [],
   "source": [
    "MileageByClass = []\n",
    "\n",
    "for t in class: # iterate over all the vehicle classes\n",
    "    sumpg = 0\n",
    "    classCount = 0\n",
    "    for d in mpg: # iterate over all dictionaries\n",
    "        ##ADD REST OF THE CODE"
   ]
  }
 ],
 "metadata": {
  "kernelspec": {
   "display_name": "Python 3",
   "language": "python",
   "name": "python3"
  },
  "language_info": {
   "codemirror_mode": {
    "name": "ipython",
    "version": 3
   },
   "file_extension": ".py",
   "mimetype": "text/x-python",
   "name": "python",
   "nbconvert_exporter": "python",
   "pygments_lexer": "ipython3",
   "version": "3.7.3"
  }
 },
 "nbformat": 4,
 "nbformat_minor": 2
}
